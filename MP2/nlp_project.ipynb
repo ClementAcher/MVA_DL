{
 "cells": [
  {
   "cell_type": "markdown",
   "metadata": {
    "colab_type": "text",
    "id": "52ZKTj2Gl1RA"
   },
   "source": [
    "# Deep Learning for NLP - Project"
   ]
  },
  {
   "cell_type": "markdown",
   "metadata": {
    "colab_type": "text",
    "id": "pPrw3IG5l1RC"
   },
   "source": [
    "RULES:\n",
    "\n",
    "* Do not create any additional cell\n",
    "\n",
    "* Fill in the blanks\n",
    "\n",
    "* All cells should be runnable (modulo trivial compatibility bugs that we'd fix)\n",
    "\n",
    "* 4 / 20 points will be allocated to the clarity of your code\n",
    "\n",
    "* Efficient code will have a bonus\n",
    "\n",
    "DELIVERABLE:\n",
    "\n",
    "* this notebook\n",
    "* the predictions of the SST test set\n",
    "\n",
    "DO NOT INCLUDE THE DATASETS IN THE DELIVERABLE.."
   ]
  },
  {
   "cell_type": "code",
   "execution_count": 1,
   "metadata": {
    "colab": {},
    "colab_type": "code",
    "id": "LJvJHK78l1RD"
   },
   "outputs": [],
   "source": [
    "import io\n",
    "import os\n",
    "import numpy as np\n",
    "import scipy\n",
    "\n",
    "np.random.seed(1)"
   ]
  },
  {
   "cell_type": "code",
   "execution_count": 2,
   "metadata": {
    "colab": {},
    "colab_type": "code",
    "id": "Rn9srbqBl1RG"
   },
   "outputs": [],
   "source": [
    "PATH_TO_DATA = \"./data/\""
   ]
  },
  {
   "cell_type": "markdown",
   "metadata": {
    "colab_type": "text",
    "id": "Jmfp0R7ml1RI"
   },
   "source": [
    "# 1) Monolingual (English) word embeddings "
   ]
  },
  {
   "cell_type": "code",
   "execution_count": 3,
   "metadata": {
    "colab": {},
    "colab_type": "code",
    "id": "skIsJogul1RI"
   },
   "outputs": [],
   "source": [
    "class Word2vec():\n",
    "    def __init__(self, fname, nmax=100000):\n",
    "        self.load_wordvec(fname, nmax)\n",
    "        self.word2id = {k: v for v, k in enumerate(self.word2vec.keys())}\n",
    "        self.id2word = {v: k for k, v in self.word2id.items()}\n",
    "        self.embeddings = np.array(list(self.word2vec.values()))\n",
    "\n",
    "    def load_wordvec(self, fname, nmax):\n",
    "        self.word2vec = {}\n",
    "        with io.open(fname, encoding='utf-8') as f:\n",
    "            next(f)\n",
    "            for i, line in enumerate(f):\n",
    "                word, vec = line.split(' ', 1)\n",
    "                self.word2vec[word] = np.fromstring(vec, sep=' ')\n",
    "                if i == (nmax - 1):\n",
    "                    break\n",
    "        print('Loaded %s pretrained word vectors' % (len(self.word2vec)))\n",
    "\n",
    "    def most_similar(self, w, K=5):\n",
    "        # K most similar words: self.score  -  np.argsort\n",
    "        scores = np.zeros(self.embeddings.shape[0])\n",
    "        for i, word in enumerate(self.word2id.keys()):\n",
    "            scores[i] = self.score(w, word)\n",
    "        # argsort returns a result corresponding to the ascending order. We then\n",
    "        # add a - sign to the score array.\n",
    "        # We also start to 1 to avoid returning the word itself.\n",
    "        return [self.id2word[top_id] for top_id in np.argsort(-scores)[1:K+1]]\n",
    "\n",
    "    def score(self, w1, w2):\n",
    "        # cosine similarity: np.dot  -  np.linalg.norm\n",
    "        embedding_w1 = self.get_embeddings(w1)\n",
    "        embedding_w2 = self.get_embeddings(w2)\n",
    "        return np.dot(embedding_w1, embedding_w2) / (\n",
    "            np.linalg.norm(embedding_w1) * np.linalg.norm(embedding_w2))\n",
    "    \n",
    "    def get_embeddings(self, word):\n",
    "        return self.embeddings[self.word2id.get(word), :]"
   ]
  },
  {
   "cell_type": "code",
   "execution_count": 4,
   "metadata": {
    "colab": {},
    "colab_type": "code",
    "id": "G7T6Hp5fl1RK",
    "outputId": "15a02639-c621-495f-9622-d626545ce533"
   },
   "outputs": [
    {
     "name": "stdout",
     "output_type": "stream",
     "text": [
      "Loaded 100000 pretrained word vectors\n",
      "cat dog 0.671683666279249\n",
      "dog pet 0.6842064029669219\n",
      "dogs cats 0.7074389328052403\n",
      "paris france 0.7775108541288558\n",
      "germany berlin 0.7420295235998394\n",
      "['cats', 'kitty', 'kitten', 'feline', 'kitties']\n",
      "['dogs', 'puppy', 'Dog', 'doggie', 'canine']\n",
      "['dog', 'pooches', 'Dogs', 'doggies', 'canines']\n",
      "['france', 'Paris', 'london', 'berlin', 'tokyo']\n",
      "['austria', 'europe', 'german', 'berlin', 'poland']\n"
     ]
    }
   ],
   "source": [
    "w2v = Word2vec(os.path.join(PATH_TO_DATA, 'crawl-300d-200k.vec'), nmax=100000)\n",
    "\n",
    "# You will be evaluated on the output of the following:\n",
    "for w1, w2 in zip(('cat', 'dog', 'dogs', 'paris', 'germany'),\n",
    "                  ('dog', 'pet', 'cats', 'france', 'berlin')):\n",
    "    print(w1, w2, w2v.score(w1, w2))\n",
    "for w1 in ['cat', 'dog', 'dogs', 'paris', 'germany']:\n",
    "    print(w2v.most_similar(w1))"
   ]
  },
  {
   "cell_type": "code",
   "execution_count": 5,
   "metadata": {
    "colab": {},
    "colab_type": "code",
    "id": "bkPQyhcGl1RO"
   },
   "outputs": [],
   "source": [
    "class BoV():\n",
    "    def __init__(self, w2v):\n",
    "        self.w2v = w2v\n",
    "\n",
    "    def encode(self, sentences, idf=False):\n",
    "        # takes a list of sentences, outputs a numpy array of sentence embeddings\n",
    "        # see TP1 for help\n",
    "        sentemb = []\n",
    "        for sent in sentences:\n",
    "            words_in_w2v = [\n",
    "                word for word in sent.split()\n",
    "                if word in self.w2v.word2id.keys()\n",
    "            ]\n",
    "            if idf is False:\n",
    "                sentemb.append(\n",
    "                    np.mean([\n",
    "                        self.w2v.get_embeddings(word) for word in words_in_w2v\n",
    "                    ],\n",
    "                            axis=0))\n",
    "            else:\n",
    "                # idf-weighted mean of word vectors\n",
    "                idf_weights = [idf[word] for word in words_in_w2v]\n",
    "                sentemb.append(\n",
    "                    np.average([\n",
    "                        self.w2v.get_embeddings(word) for word in words_in_w2v\n",
    "                    ],\n",
    "                               weights=idf_weights,\n",
    "                               axis=0))\n",
    "        return np.vstack(sentemb)\n",
    "\n",
    "    def most_similar(self, s, sentences, idf=False, K=5):\n",
    "        scores = np.zeros(len(sentences))\n",
    "        for i, sentence in enumerate(sentences):\n",
    "            scores[i] = self.score(s, sentence, idf)\n",
    "        # argsort returns a result corresponding to the ascending order. We then\n",
    "        # add a - sign to the score array.\n",
    "        # We also start to 1 to avoid returning the word itself.\n",
    "        return [sentences[top_id] for top_id in np.argsort(-scores)[1:K + 1]]\n",
    "\n",
    "    def score(self, s1, s2, idf=False):\n",
    "        # cosine similarity: use   np.dot  and  np.linalg.norm\n",
    "        embedding_s1 = self.encode([s1], idf)[0]\n",
    "        embedding_s2 = self.encode([s2], idf)[0]\n",
    "        return np.dot(embedding_s1, embedding_s2) / (\n",
    "            np.linalg.norm(embedding_s1) * np.linalg.norm(embedding_s2))\n",
    "\n",
    "    def build_idf(self, sentences):\n",
    "        # build the idf dictionary: associate each word to its idf value\n",
    "        counts = {}\n",
    "        for sent in sentences:\n",
    "            for w in sent.split():\n",
    "                counts[w] = counts.get(w, 0) + 1\n",
    "\n",
    "        idf = {\n",
    "            word: max(1, np.log10(len(sentences) / (count)))\n",
    "            for word, count in counts.items()\n",
    "        }\n",
    "\n",
    "        return idf"
   ]
  },
  {
   "cell_type": "code",
   "execution_count": 6,
   "metadata": {
    "colab": {},
    "colab_type": "code",
    "id": "CROeFu_il1RP",
    "outputId": "26fe8d66-1b8f-414b-9bcc-3efce4b729d1"
   },
   "outputs": [
    {
     "name": "stdout",
     "output_type": "stream",
     "text": [
      "Loaded 50000 pretrained word vectors\n",
      "\n",
      "BoV-mean\n",
      "\n",
      "Query : 1 smiling african american boy . \n",
      "Most similar :\n",
      "an african american man smiling . \n",
      "a little african american boy and girl looking up . \n",
      "an african american in sunglasses and a white tee-shirt smiles . \n",
      "an afican american woman standing behind two small african american children . \n",
      "an african american man is sitting . \n",
      "\n",
      "Scores : \n",
      "1 man singing and 1 man playing a saxophone in a concert . \n",
      "10 people venture out to go crosscountry skiing . \n",
      "0.5726258859719607\n",
      "\n",
      "\n",
      "BoV-idf\n",
      "\n",
      "Query : 1 smiling african american boy . \n",
      "Most similar :\n",
      "an african american man smiling . \n",
      "an african american man is sitting . \n",
      "a little african american boy and girl looking up . \n",
      "an afican american woman standing behind two small african american children . \n",
      "an african american woman braiding another african american woman 's hair , while sitting in a white chair . \n",
      "\n",
      "Scores : \n",
      "1 man singing and 1 man playing a saxophone in a concert . \n",
      "10 people venture out to go crosscountry skiing . \n",
      "0.4750927980105363\n"
     ]
    }
   ],
   "source": [
    "w2v = Word2vec(os.path.join(PATH_TO_DATA, 'crawl-300d-200k.vec'), nmax=50000)\n",
    "s2v = BoV(w2v)\n",
    "\n",
    "# Load sentences in \"PATH_TO_DATA/sentences.txt\"\n",
    "with io.open(os.path.join(PATH_TO_DATA, 'sentences.txt'), encoding='utf-8') as f:\n",
    "    sentences = f.read().splitlines()\n",
    "\n",
    "# Build idf scores for each word\n",
    "idf = s2v.build_idf(sentences)\n",
    "\n",
    "# You will be evaluated on the output of the following:\n",
    "print('\\nBoV-mean\\n')\n",
    "\n",
    "print('Query : {}'.format(sentences[10]))\n",
    "print('Most similar :')\n",
    "most_similar = s2v.most_similar('' if not sentences else sentences[10], sentences)  # BoV-mean\n",
    "for s in most_similar:\n",
    "    print(s)\n",
    "\n",
    "print('\\nScores : \\n{}\\n{}'.format(sentences[7], sentences[13]))\n",
    "print(s2v.score('' if not sentences else sentences[7], '' if not sentences else sentences[13]))\n",
    "\n",
    "\n",
    "print('\\n\\nBoV-idf\\n')\n",
    "\n",
    "idf = s2v.build_idf(sentences)\n",
    "print('Query : {}'.format(sentences[10]))\n",
    "print('Most similar :')\n",
    "most_similar = s2v.most_similar('' if not sentences else sentences[10], sentences, idf)  # BoV-idf\n",
    "for s in most_similar:\n",
    "    print(s)\n",
    "\n",
    "print('\\nScores : \\n{}\\n{}'.format(sentences[7], sentences[13]))\n",
    "print(s2v.score('' if not sentences else sentences[7], '' if not sentences else sentences[13], idf))"
   ]
  },
  {
   "cell_type": "markdown",
   "metadata": {
    "colab_type": "text",
    "id": "R7si_vsbl1RT"
   },
   "source": [
    "# 2) Multilingual (English-French) word embeddings"
   ]
  },
  {
   "cell_type": "markdown",
   "metadata": {
    "colab_type": "text",
    "id": "lTD5R0fNl1RT"
   },
   "source": [
    "Let's consider a bilingual dictionary of size V_a (e.g French-English).\n",
    "\n",
    "Let's define **X** and **Y** the **French** and **English** matrices.\n",
    "\n",
    "They contain the embeddings associated to the words in the bilingual dictionary.\n",
    "\n",
    "We want to find a **mapping W** that will project the source word space (e.g French) to the target word space (e.g English).\n",
    "\n",
    "Procrustes : **W\\* = argmin || W.X - Y ||  s.t  W^T.W = Id**\n",
    "has a closed form solution:\n",
    "**W = U.V^T  where  U.Sig.V^T = SVD(Y.X^T)**\n",
    "\n",
    "In what follows, you are asked to: "
   ]
  },
  {
   "cell_type": "code",
   "execution_count": 59,
   "metadata": {
    "colab": {},
    "colab_type": "code",
    "id": "SxnNK4vQl1RT",
    "outputId": "b66edb82-7176-48ce-ad8c-089e6c0046e6"
   },
   "outputs": [],
   "source": [
    "# 1 - Download and load 50k first vectors of\n",
    "# !wget -P ./data/ https://s3-us-west-1.amazonaws.com/fasttext-vectors/wiki.en.vec\n",
    "# !wget -P ./data/ https://s3-us-west-1.amazonaws.com/fasttext-vectors/wiki.fr.vec\n",
    "\n",
    "def extract_vectors(emb_path, nmax=50000):\n",
    "    vectors = []\n",
    "    word2id = {}\n",
    "    with io.open(emb_path, 'r', encoding='utf-8', newline='\\n', errors='ignore') as f:\n",
    "        next(f)\n",
    "        for i, line in enumerate(f):\n",
    "            word, vect = line.rstrip().split(' ', 1)\n",
    "            vect = np.fromstring(vect, sep=' ')\n",
    "            vectors.append(vect)\n",
    "            word2id[word] = len(word2id)\n",
    "            if len(word2id) == nmax:\n",
    "                break\n",
    "    id2word = {v: k for k, v in word2id.items()}\n",
    "    embeddings = np.vstack(vectors)\n",
    "    return embeddings, id2word, word2id\n",
    "\n",
    "fr_embeddings, fr_id2word, fr_word2id = extract_vectors(os.path.join(PATH_TO_DATA, 'wiki.fr.vec'))\n",
    "en_embeddings, en_id2word, en_word2id = extract_vectors(os.path.join(PATH_TO_DATA, 'wiki.en.vec'))"
   ]
  },
  {
   "cell_type": "code",
   "execution_count": 8,
   "metadata": {
    "colab": {},
    "colab_type": "code",
    "id": "R2GUXyV4l1RX",
    "outputId": "a227be3a-3822-4b5d-c0f5-f5cdc8a4047e"
   },
   "outputs": [
    {
     "name": "stdout",
     "output_type": "stream",
     "text": [
      "18970 common words\n"
     ]
    }
   ],
   "source": [
    "# 2 - Get words that appear in both vocabs (= identical character strings)\n",
    "#     Use it to create the matrix X and Y (of aligned embeddings for these words)\n",
    "\n",
    "common_words = set(fr_word2id.keys()) & set(en_word2id.keys())\n",
    "\n",
    "print('{} common words'.format(len(common_words)))\n",
    "\n",
    "X, Y = [], []\n",
    "\n",
    "for word in common_words:\n",
    "    X.append(fr_embeddings[fr_word2id[word], :])\n",
    "    Y.append(en_embeddings[en_word2id[word], :])\n",
    "\n",
    "X, Y = np.array(X), np.array(Y)"
   ]
  },
  {
   "cell_type": "code",
   "execution_count": 9,
   "metadata": {
    "colab": {},
    "colab_type": "code",
    "id": "8LGzuyxol1RY"
   },
   "outputs": [],
   "source": [
    "# 3 - Solve the Procrustes using the scipy package and: scipy.linalg.svd() and get the optimal W\n",
    "#     Now W*French_vector is in the same space as English_vector\n",
    "\n",
    "from scipy import linalg\n",
    "U, s, Vh = linalg.svd(Y.T @ X)\n",
    "W = np.dot(U, Vh)"
   ]
  },
  {
   "cell_type": "code",
   "execution_count": 10,
   "metadata": {
    "colab": {},
    "colab_type": "code",
    "id": "MfDkILXll1Rb",
    "outputId": "0089b641-9341-4319-939e-4b81449754a7"
   },
   "outputs": [
    {
     "name": "stdout",
     "output_type": "stream",
     "text": [
      "French --> English\n",
      "\n",
      "\n",
      "Nearest neighbors of \"chat\":\n",
      "0.5652 - cat\n",
      "0.5337 - rabbit\n",
      "0.5168 - hamster\n",
      "0.5077 - feline\n",
      "0.5055 - poodle\n",
      "\n",
      "Nearest neighbors of \"chien\":\n",
      "0.6543 - dog\n",
      "0.5615 - poodle\n",
      "0.5610 - terrier\n",
      "0.5477 - dogs\n",
      "0.5218 - spaniel\n",
      "\n",
      "Nearest neighbors of \"roi\":\n",
      "0.6827 - king\n",
      "0.5404 - vassal\n",
      "0.5363 - kingship\n",
      "0.5277 - throne\n",
      "0.5275 - usurper\n",
      "\n",
      "Nearest neighbors of \"spectacle\":\n",
      "0.6300 - vaudeville\n",
      "0.6257 - concert\n",
      "0.6168 - spectacle\n",
      "0.6085 - pantomime\n",
      "0.6078 - extravaganza\n",
      "\n",
      "Nearest neighbors of \"fleur\":\n",
      "0.6220 - flower\n",
      "0.5941 - flowers\n",
      "0.5739 - rosette\n",
      "0.5652 - flowered\n",
      "0.5554 - petals\n",
      "\n",
      "\n",
      "English --> French\n",
      "\n",
      "\n",
      "Nearest neighbors of \"cat\":\n",
      "0.6663 - cat\n",
      "0.5652 - chat\n",
      "0.4903 - dog\n",
      "0.4673 - chats\n",
      "0.4660 - chien\n",
      "\n",
      "Nearest neighbors of \"hurricane\":\n",
      "0.7552 - ouragan\n",
      "0.7060 - cyclone\n",
      "0.6719 - ouragans\n",
      "0.6380 - cyclonique\n",
      "0.6112 - tempête\n",
      "\n",
      "Nearest neighbors of \"queen\":\n",
      "0.6639 - queen\n",
      "0.6461 - reine\n",
      "0.5241 - princess\n",
      "0.5120 - princesse\n",
      "0.5013 - reines\n",
      "\n",
      "Nearest neighbors of \"computer\":\n",
      "0.7132 - computer\n",
      "0.7040 - informatique\n",
      "0.6841 - ordinateurs\n",
      "0.6785 - ordinateur\n",
      "0.6408 - computing\n",
      "\n",
      "Nearest neighbors of \"hills\":\n",
      "0.6299 - hills\n",
      "0.5859 - collines\n",
      "0.5504 - mountains\n",
      "0.5140 - montagneuse\n",
      "0.5113 - ridge\n",
      "\n"
     ]
    }
   ],
   "source": [
    "# 4 - After alignment with W, give examples of English nearest neighbors of some French words (and vice versa)\n",
    "#     You will be evaluated on that part and the code above\n",
    "\n",
    "src_word = 'spectacle'\n",
    "np.dot(W, fr_embeddings[fr_word2id[word], :])\n",
    "\n",
    "\n",
    "transposed_fr_embeddings = np.dot(fr_embeddings, W.T)\n",
    "        \n",
    "def get_nn(word, src_emb, src_id2word, tgt_emb, tgt_id2word, K=5):\n",
    "    print(\"Nearest neighbors of \\\"%s\\\":\" % word)\n",
    "    word2id = {v: k for k, v in src_id2word.items()}\n",
    "    word_emb = src_emb[word2id[word], :]\n",
    "    scores = (tgt_emb / np.linalg.norm(tgt_emb, 2, 1)[:, None]).dot(word_emb / np.linalg.norm(word_emb))\n",
    "    k_best = scores.argsort()[-K:][::-1]\n",
    "    for i, idx in enumerate(k_best):\n",
    "        print('%.4f - %s' % (scores[idx], tgt_id2word[idx]))\n",
    "\n",
    "print(\"French --> English\\n\\n\")\n",
    "french_words = ['chat', 'chien', 'roi', 'spectacle', 'fleur']\n",
    "for src_word in french_words :\n",
    "    get_nn(src_word, transposed_fr_embeddings, fr_id2word, en_embeddings, en_id2word, K=5)\n",
    "    print('')\n",
    "    \n",
    "print(\"\\nEnglish --> French\\n\\n\")\n",
    "english_words = ['cat', 'hurricane', 'queen', 'computer', 'hills']\n",
    "for src_word in english_words :\n",
    "    get_nn(src_word, en_embeddings, en_id2word, transposed_fr_embeddings, fr_id2word, K=5)\n",
    "    print('')"
   ]
  },
  {
   "cell_type": "markdown",
   "metadata": {
    "colab_type": "text",
    "id": "59hSnbxnl1Rd"
   },
   "source": [
    "If you want to dive deeper on this subject: https://github.com/facebookresearch/MUSE"
   ]
  },
  {
   "cell_type": "markdown",
   "metadata": {
    "colab_type": "text",
    "id": "f08wxJu3l1Rg"
   },
   "source": [
    "# 3) Sentence classification with BoV and scikit-learn"
   ]
  },
  {
   "cell_type": "code",
   "execution_count": 11,
   "metadata": {
    "colab": {},
    "colab_type": "code",
    "id": "CMaxnwyWl1Rh"
   },
   "outputs": [],
   "source": [
    "# 1 - Load train/dev/test of Stanford Sentiment TreeBank (SST)\n",
    "#     (https://nlp.stanford.edu/~socherr/EMNLP2013_RNTN.pdf)\n",
    "\n",
    "def load_dataset(filename, is_test=False):\n",
    "    X, y = [], []\n",
    "    with io.open(os.path.join(PATH_TO_DATA, filename), newline='\\n', encoding='utf-8') as f:\n",
    "        for line in f:\n",
    "            if is_test:\n",
    "                X.append(line.rstrip())\n",
    "            else:\n",
    "                cat, sentence = line.split(' ', 1)\n",
    "                y.append(cat)\n",
    "                X.append(sentence.rstrip())\n",
    "    return X, y\n",
    "            \n",
    "X_train_sentences, y_train = load_dataset('./SST/stsa.fine.train')\n",
    "X_dev_sentences, y_dev = load_dataset('./SST/stsa.fine.dev')\n",
    "X_test_sentences, _ = load_dataset('./SST/stsa.fine.test.X', is_test=True)"
   ]
  },
  {
   "cell_type": "code",
   "execution_count": 12,
   "metadata": {
    "colab": {},
    "colab_type": "code",
    "id": "3skJq_bLl1Ro",
    "outputId": "9fa6ab14-c95e-4331-dd5d-9d943c6dc841"
   },
   "outputs": [
    {
     "name": "stdout",
     "output_type": "stream",
     "text": [
      "Loaded 200000 pretrained word vectors\n"
     ]
    }
   ],
   "source": [
    "# 2 - Encode sentences with the BoV model above\n",
    "\n",
    "w2v = Word2vec(os.path.join(PATH_TO_DATA, 'crawl-300d-200k.vec'), nmax=500000)\n",
    "s2v = BoV(w2v)\n",
    "\n",
    "X_train = s2v.encode(X_train_sentences)\n",
    "X_dev = s2v.encode(X_dev_sentences)\n",
    "X_test = s2v.encode(X_test_sentences)\n",
    "\n",
    "# with idf\n",
    "idf = s2v.build_idf(X_train_sentences + X_dev_sentences + X_test_sentences)\n",
    "X_train_idf = s2v.encode(X_train_sentences, idf)\n",
    "X_dev_idf = s2v.encode(X_dev_sentences, idf)\n",
    "X_test_idf = s2v.encode(X_test_sentences, idf)"
   ]
  },
  {
   "cell_type": "markdown",
   "metadata": {
    "colab_type": "text",
    "id": "t2i37m5Nl1Rr"
   },
   "source": [
    "### Mean"
   ]
  },
  {
   "cell_type": "code",
   "execution_count": 13,
   "metadata": {
    "colab": {},
    "colab_type": "code",
    "id": "Wj7QT3yIl1Rr",
    "outputId": "c3872e1a-be8c-4c8a-cba8-a17b33eebb45"
   },
   "outputs": [
    {
     "name": "stdout",
     "output_type": "stream",
     "text": [
      "Train score : 0.4992\n",
      "Dev score : 0.4405\n",
      "\n"
     ]
    }
   ],
   "source": [
    "# 3 - Learn Logistic Regression on top of sentence embeddings using scikit-learn\n",
    "#     (consider tuning the L2 regularization on the dev set)\n",
    "\n",
    "from sklearn.linear_model import LogisticRegression\n",
    "from sklearn.model_selection import GridSearchCV\n",
    "\n",
    "logreg = LogisticRegression(solver='lbfgs', C=1, penalty='l2', \n",
    "                            multi_class='multinomial', max_iter=500)\n",
    "# grid = {\"C\": np.logspace(-3, 3, 7), \"penalty\": [\"l2\"]}\n",
    "# logreg = GridSearchCV(logreg, grid, cv=10)\n",
    "logreg.fit(X_train, y_train)\n",
    "\n",
    "score = logreg.score(X_train, y_train)\n",
    "print(\"Train score : %.4f\" % score)\n",
    "score = logreg.score(X_dev, y_dev)\n",
    "print(\"Dev score : %.4f\\n\" % score)\n",
    "\n",
    "# print(logreg.best_params_)"
   ]
  },
  {
   "cell_type": "markdown",
   "metadata": {
    "colab_type": "text",
    "id": "ZEMLJvu8l1Rx"
   },
   "source": [
    "### idf"
   ]
  },
  {
   "cell_type": "code",
   "execution_count": 14,
   "metadata": {
    "colab": {},
    "colab_type": "code",
    "id": "Od9Xjt2sl1Ry",
    "outputId": "09ca27bb-8cfe-4324-e2c1-7356010f2ef3"
   },
   "outputs": [
    {
     "name": "stdout",
     "output_type": "stream",
     "text": [
      "Train score : 0.4993\n",
      "Dev score : 0.4233\n",
      "\n"
     ]
    }
   ],
   "source": [
    "logreg_idf = LogisticRegression(solver='lbfgs', C=1, penalty='l2', \n",
    "                                multi_class='multinomial', max_iter=500)\n",
    "# grid = {\"C\": np.logspace(-3, 3, 7), \"penalty\": [\"l2\"]}\n",
    "# logreg_idf = GridSearchCV(logreg, grid, cv=10)\n",
    "logreg_idf.fit(X_train_idf, y_train)\n",
    "\n",
    "score = logreg_idf.score(X_train_idf, y_train)\n",
    "print(\"Train score : %.4f\" % score)\n",
    "score = logreg_idf.score(X_dev_idf, y_dev)\n",
    "print(\"Dev score : %.4f\\n\" % score)\n",
    "\n",
    "# print(logreg_idf.best_params_)"
   ]
  },
  {
   "cell_type": "code",
   "execution_count": 15,
   "metadata": {
    "colab": {},
    "colab_type": "code",
    "id": "pDzuBW7Sl1R0"
   },
   "outputs": [],
   "source": [
    "# 4 - Produce 2210 predictions for the test set (in the same order). One line = one prediction (=0,1,2,3,4).\n",
    "#     Attach the output file \"logreg_bov_y_test_sst.txt\" to your deliverable.\n",
    "#     You will be evaluated on the results of the test set.\n",
    "\n",
    "# Not using idf gives the best results, so we save this version\n",
    "y_test = logreg.predict(X_test).astype(str)\n",
    "np.savetxt('./data/output/logreg_bov_y_test_sst.txt', y_test, fmt='%s')"
   ]
  },
  {
   "cell_type": "code",
   "execution_count": 16,
   "metadata": {
    "colab": {},
    "colab_type": "code",
    "id": "PQ6tsBhzl1R1"
   },
   "outputs": [
    {
     "name": "stdout",
     "output_type": "stream",
     "text": [
      "Train score : 0.5012\n",
      "Dev score : 0.4432\n",
      "\n"
     ]
    }
   ],
   "source": [
    "# BONUS!\n",
    "# 5 - Try to improve performance with another classifier\n",
    "#     Attach the output file \"XXX_bov_y_test_sst.txt\" to your deliverable (where XXX = the name of the classifier)\n",
    "\n",
    "from sklearn.svm import SVC\n",
    "\n",
    "svc = SVC(gamma='scale', C=10)\n",
    "# grid = {\"C\": np.logspace(-1, 3, 4)}\n",
    "# svc = GridSearchCV(svc, grid, cv=8, verbose=1)\n",
    "svc.fit(X_train, y_train)\n",
    "\n",
    "score = svc.score(X_train, y_train)\n",
    "print(\"Train score : %.4f\" % score)\n",
    "score = svc.score(X_dev, y_dev)\n",
    "print(\"Dev score : %.4f\\n\" % score)\n",
    "\n",
    "# print(svc.best_params_)"
   ]
  },
  {
   "cell_type": "code",
   "execution_count": 17,
   "metadata": {},
   "outputs": [],
   "source": [
    "y_test = svc.predict(X_test).astype(str)\n",
    "np.savetxt('./data/output/SVC_bov_y_test_sst.txt', y_test, fmt='%s')"
   ]
  },
  {
   "cell_type": "code",
   "execution_count": 18,
   "metadata": {},
   "outputs": [
    {
     "name": "stdout",
     "output_type": "stream",
     "text": [
      "Train score : 1.0000\n",
      "Dev score : 0.3860\n",
      "\n"
     ]
    }
   ],
   "source": [
    "from sklearn.ensemble import RandomForestClassifier\n",
    "\n",
    "rf = RandomForestClassifier(n_estimators=500)\n",
    "rf.fit(X_train, y_train)\n",
    "\n",
    "score = rf.score(X_train, y_train)\n",
    "print(\"Train score : %.4f\" % score)\n",
    "score = rf.score(X_dev, y_dev)\n",
    "print(\"Dev score : %.4f\\n\" % score)"
   ]
  },
  {
   "cell_type": "code",
   "execution_count": 19,
   "metadata": {},
   "outputs": [
    {
     "name": "stdout",
     "output_type": "stream",
     "text": [
      "Train score : 0.5648\n",
      "Dev score : 0.4405\n",
      "\n"
     ]
    }
   ],
   "source": [
    "from sklearn.ensemble import VotingClassifier\n",
    "\n",
    "eclf = VotingClassifier(estimators=[('logreg', logreg), ('svc', svc), ('rf', rf)], \n",
    "                        voting='hard')\n",
    "eclf.fit(X_train, y_train)\n",
    "\n",
    "score = eclf.score(X_train, y_train)\n",
    "print(\"Train score : %.4f\" % score)\n",
    "score = eclf.score(X_dev, y_dev)\n",
    "print(\"Dev score : %.4f\\n\" % score)"
   ]
  },
  {
   "cell_type": "markdown",
   "metadata": {
    "colab_type": "text",
    "id": "bGwNawt1l1R3"
   },
   "source": [
    "# 4) Sentence classification with LSTMs in Keras"
   ]
  },
  {
   "cell_type": "markdown",
   "metadata": {
    "colab_type": "text",
    "id": "zFmnqKi6l1R3"
   },
   "source": [
    "## 4.1 - Preprocessing"
   ]
  },
  {
   "cell_type": "code",
   "execution_count": 8,
   "metadata": {
    "colab": {},
    "colab_type": "code",
    "id": "b5eriNi8l1R4"
   },
   "outputs": [
    {
     "name": "stderr",
     "output_type": "stream",
     "text": [
      "Using TensorFlow backend.\n"
     ]
    }
   ],
   "source": [
    "import keras"
   ]
  },
  {
   "cell_type": "code",
   "execution_count": 9,
   "metadata": {
    "colab": {},
    "colab_type": "code",
    "id": "aqcN3lPll1R6"
   },
   "outputs": [],
   "source": [
    "# 1 - Load train/dev/test sets of SST\n",
    "from sklearn.preprocessing import LabelBinarizer\n",
    "\n",
    "PATH_TO_DATA = \"./data/\"\n",
    "\n",
    "def load_dataset(filename, is_test=False):\n",
    "    X, y = [], []\n",
    "    with io.open(os.path.join(PATH_TO_DATA, filename), newline='\\n', encoding='utf-8') as f:\n",
    "        for line in f:\n",
    "            if is_test:\n",
    "                X.append(line.rstrip())\n",
    "            else:\n",
    "                cat, sentence = line.split(' ', 1)\n",
    "                y.append(int(cat))\n",
    "                X.append(sentence.rstrip())\n",
    "    if not is_test:\n",
    "        y = LabelBinarizer().fit(range(5)).transform(y)\n",
    "    return X, y\n",
    "            \n",
    "X_train_sentences, y_train = load_dataset('./SST/stsa.fine.train')\n",
    "X_dev_sentences, y_dev = load_dataset('./SST/stsa.fine.dev')\n",
    "X_test_sentences, _ = load_dataset('./SST/stsa.fine.test.X', is_test=True)"
   ]
  },
  {
   "cell_type": "code",
   "execution_count": 10,
   "metadata": {
    "colab": {},
    "colab_type": "code",
    "id": "gfpIs2Apl1R7"
   },
   "outputs": [],
   "source": [
    "# 2 - Transform text to integers using keras.preprocessing.text.one_hot function\n",
    "#     https://keras.io/preprocessing/text/\n",
    "\n",
    "from keras.preprocessing.text import one_hot\n",
    "from keras.preprocessing.text import Tokenizer\n",
    "\n",
    "tokenizer_obj = Tokenizer()\n",
    "tokenizer_obj.fit_on_texts(X_train_sentences + X_dev_sentences + X_test_sentences)\n",
    "\n",
    "vocab_size = int(1.2 * len(tokenizer_obj.word_index)) # larger than the number of words to avoid collisions\n",
    "\n",
    "X_train = [one_hot(x, n=vocab_size) for x in X_train_sentences]\n",
    "X_dev = [one_hot(x, n=vocab_size) for x in X_dev_sentences]\n",
    "X_test = [one_hot(x, n=vocab_size) for x in X_test_sentences]"
   ]
  },
  {
   "cell_type": "markdown",
   "metadata": {
    "colab_type": "text",
    "id": "uDgQTx1Dl1R9"
   },
   "source": [
    "**Padding input data**\n",
    "\n",
    "Models in Keras (and elsewhere) take batches of sentences of the same length as input. It is because Deep Learning framework have been designed to handle well Tensors, which are particularly suited for fast computation on the GPU.\n",
    "\n",
    "Since sentences have different sizes, we \"pad\" them. That is, we add dummy \"padding\" tokens so that they all have the same length.\n",
    "\n",
    "The input to a Keras model thus has this size : (batchsize, maxseqlen) where maxseqlen is the maximum length of a sentence in the batch."
   ]
  },
  {
   "cell_type": "code",
   "execution_count": 11,
   "metadata": {
    "colab": {},
    "colab_type": "code",
    "id": "oZw0HThal1R-",
    "outputId": "009d870d-2e97-44e4-ff0c-8e5c252acdfc"
   },
   "outputs": [
    {
     "name": "stdout",
     "output_type": "stream",
     "text": [
      "max len : 49\n"
     ]
    }
   ],
   "source": [
    "# 3 - Pad your sequences using keras.preprocessing.sequence.pad_sequences\n",
    "#     https://keras.io/preprocessing/sequence/\n",
    "\n",
    "from keras.preprocessing.sequence import pad_sequences\n",
    "\n",
    "max_len = max([len(x) for x in X_train + X_dev])\n",
    "print('max len : {}'.format(max_len))\n",
    "\n",
    "X_train = pad_sequences(X_train, maxlen=max_len)\n",
    "X_dev = pad_sequences(X_dev, maxlen=max_len)\n",
    "X_test = pad_sequences(X_test, maxlen=max_len)"
   ]
  },
  {
   "cell_type": "markdown",
   "metadata": {
    "colab_type": "text",
    "id": "8H8QqIGtl1SA"
   },
   "source": [
    "## 4.2 - Design and train your model"
   ]
  },
  {
   "cell_type": "code",
   "execution_count": 14,
   "metadata": {},
   "outputs": [],
   "source": [
    "# Helper function to plot the history\n",
    "\n",
    "import matplotlib.pyplot as plt \n",
    "\n",
    "plt.style.use('seaborn')\n",
    "plt.rcParams[\"figure.figsize\"] = (16,6)\n",
    "\n",
    "def plot_history(history):\n",
    "  \"\"\"Helper function to plot the accuracy and loss\"\"\"\n",
    "  f, (ax1, ax2) = plt.subplots(1, 2)\n",
    "\n",
    "  ax1.plot(history.history['acc'])\n",
    "  ax1.plot(history.history['val_acc'])\n",
    "  ax1.set_title('Model Accuracy')\n",
    "  ax1.set_ylabel('accuracy')\n",
    "  ax1.set_xlabel('epoch')\n",
    "  ax1.legend(['Train', 'Validation'], loc='upper left')\n",
    "\n",
    "  # summarize history for loss\n",
    "  ax2.plot(history.history['loss'])\n",
    "  ax2.plot(history.history['val_loss'])\n",
    "  ax2.set_title('Model Loss')\n",
    "  ax2.set_ylabel('loss')\n",
    "  ax2.set_xlabel('epoch')\n",
    "  plt.legend(['Train', 'Validation'], loc='upper left')\n",
    "  plt.show()"
   ]
  },
  {
   "cell_type": "code",
   "execution_count": 53,
   "metadata": {
    "colab": {},
    "colab_type": "code",
    "id": "mztLMoDtl1SB"
   },
   "outputs": [],
   "source": [
    "# 4 - Design your encoder + classifier using keras.layers\n",
    "#     In Keras, Torch and other deep learning framework, we create a \"container\" which is the Sequential() module.\n",
    "#     Then we add components to this contained : the lookuptable, the LSTM, the classifier etc.\n",
    "#     All of these components are contained in the Sequential() and are trained together.\n",
    "\n",
    "from keras.models import Sequential\n",
    "from keras.layers import Embedding, LSTM, Dense, Activation\n",
    "\n",
    "embed_dim  = 300  # word embedding dimension\n",
    "nhid       = 50  # number of hidden units in the LSTM\n",
    "# vocab_size = 0  # size of the vocabulary\n",
    "n_classes  = 5\n",
    "\n",
    "model = Sequential()\n",
    "model.add(Embedding(vocab_size, embed_dim))\n",
    "model.add(LSTM(nhid, dropout=0.2, recurrent_dropout=0.2))\n",
    "model.add(Dense(n_classes, activation='sigmoid'))\n"
   ]
  },
  {
   "cell_type": "code",
   "execution_count": 54,
   "metadata": {
    "colab": {},
    "colab_type": "code",
    "id": "w8C5i7NVl1SD",
    "outputId": "497ff072-803d-42c5-b074-efe0ecbb2c61"
   },
   "outputs": [
    {
     "name": "stdout",
     "output_type": "stream",
     "text": [
      "_________________________________________________________________\n",
      "Layer (type)                 Output Shape              Param #   \n",
      "=================================================================\n",
      "embedding_8 (Embedding)      (None, None, 300)         6421800   \n",
      "_________________________________________________________________\n",
      "lstm_8 (LSTM)                (None, 50)                70200     \n",
      "_________________________________________________________________\n",
      "dense_8 (Dense)              (None, 5)                 255       \n",
      "=================================================================\n",
      "Total params: 6,492,255\n",
      "Trainable params: 6,492,255\n",
      "Non-trainable params: 0\n",
      "_________________________________________________________________\n",
      "None\n"
     ]
    }
   ],
   "source": [
    "# 5 - Define your loss/optimizer/metrics\n",
    "\n",
    "# MODIFY CODE BELOW\n",
    "\n",
    "loss_classif     =  'categorical_crossentropy' # find the right loss for multi-class classification\n",
    "optimizer        =  'adam' # find the right optimizer\n",
    "metrics_classif  =  ['accuracy']\n",
    "\n",
    "# Observe how easy (but blackboxed) this is in Keras\n",
    "model.compile(loss=loss_classif,\n",
    "              optimizer=optimizer,\n",
    "              metrics=metrics_classif)\n",
    "print(model.summary())"
   ]
  },
  {
   "cell_type": "code",
   "execution_count": 55,
   "metadata": {
    "colab": {},
    "colab_type": "code",
    "id": "Iul1EyPpl1SE",
    "outputId": "e8c7c92a-cff5-4aa8-87fc-6721e3817b73"
   },
   "outputs": [
    {
     "name": "stdout",
     "output_type": "stream",
     "text": [
      "Train on 8544 samples, validate on 1101 samples\n",
      "Epoch 1/2\n",
      "8544/8544 [==============================] - 12s 1ms/step - loss: 1.5723 - acc: 0.2870 - val_loss: 1.5460 - val_acc: 0.3015\n",
      "Epoch 2/2\n",
      "8544/8544 [==============================] - 10s 1ms/step - loss: 1.4035 - acc: 0.3938 - val_loss: 1.3884 - val_acc: 0.3815\n"
     ]
    }
   ],
   "source": [
    "# 6 - Train your model and find the best hyperparameters for your dev set\n",
    "#     you will be evaluated on the quality of your predictions on the test set\n",
    "\n",
    "# ADAPT CODE BELOW\n",
    "bs = 128\n",
    "n_epochs = 2\n",
    "\n",
    "history = model.fit(X_train, y_train, batch_size=bs, epochs=n_epochs, validation_data=(X_dev, y_dev))"
   ]
  },
  {
   "cell_type": "code",
   "execution_count": 56,
   "metadata": {},
   "outputs": [
    {
     "data": {
      "image/png": "[encoded data removed]",
      "text/plain": [
       "<Figure size 1152x432 with 2 Axes>"
      ]
     },
     "metadata": {},
     "output_type": "display_data"
    }
   ],
   "source": [
    "plot_history(history)"
   ]
  },
  {
   "cell_type": "code",
   "execution_count": 57,
   "metadata": {
    "colab": {},
    "colab_type": "code",
    "id": "F0zX3gaml1SH"
   },
   "outputs": [],
   "source": [
    "# 7 - Generate your predictions on the test set using model.predict(x_test)\n",
    "#     https://keras.io/models/model/\n",
    "#     Log your predictions in a file (one line = one integer: 0,1,2,3,4)\n",
    "#     Attach the output file \"logreg_lstm_y_test_sst.txt\" to your deliverable.\n",
    "\n",
    "y_test = np.argmax(model.predict(X_test), axis=1)\n",
    "np.savetxt('./data/output/logreg_lstm_y_test_sst.txt', y_test.astype(str), fmt='%s')\n"
   ]
  },
  {
   "cell_type": "markdown",
   "metadata": {
    "colab_type": "text",
    "id": "t99Hcooll1SI"
   },
   "source": [
    "## 4.3 -- innovate !"
   ]
  },
  {
   "cell_type": "code",
   "execution_count": 60,
   "metadata": {
    "colab": {},
    "colab_type": "code",
    "id": "p6rXMFhal1SJ"
   },
   "outputs": [],
   "source": [
    "# 8 - Open question: find a model that is better on your dev set\n",
    "#     (e.g: use a 1D ConvNet, use a better classifier, pretrain your lookup tables ..)\n",
    "#     you will get point if the results on the test set are better: be careful of not overfitting your dev set too much..\n",
    "#     Attach the output file \"XXX_XXX_y_test_sst.txt\" to your deliverable.\n",
    "\n",
    "PATH_TO_DATA = \"./data/\"\n",
    "\n",
    "def load_dataset(filename, is_test=False):\n",
    "    X, y = [], []\n",
    "    with io.open(os.path.join(PATH_TO_DATA, filename), newline='\\n', encoding='utf-8') as f:\n",
    "        for line in f:\n",
    "            if is_test:\n",
    "                X.append(line.rstrip())\n",
    "            else:\n",
    "                cat, sentence = line.split(' ', 1)\n",
    "                y.append(int(cat))\n",
    "                X.append(sentence.rstrip())\n",
    "    if not is_test:\n",
    "        y = LabelBinarizer().fit(range(5)).transform(y)\n",
    "    return X, y\n",
    "            \n",
    "X_train_sentences, y_train = load_dataset('./SST/stsa.fine.train')\n",
    "X_dev_sentences, y_dev = load_dataset('./SST/stsa.fine.dev')\n",
    "X_test_sentences, _ = load_dataset('./SST/stsa.fine.test.X', is_test=True)\n",
    "\n",
    "embeddings, id2word, word2id = extract_vectors(os.path.join(PATH_TO_DATA, 'wiki.en.vec'))\n",
    "\n",
    "vocabulary_size = 5000\n",
    "tokenizer = Tokenizer(num_words=vocabulary_size)\n",
    "tokenizer.fit_on_texts(X_train_sentences + X_dev_sentences + X_test_sentences)\n",
    "\n",
    "\n",
    "embedding_matrix = np.zeros((vocabulary_size, embeddings.shape[1]))\n",
    "\n",
    "for word, index in tokenizer.word_index.items():\n",
    "    if index > vocabulary_size - 1:\n",
    "        break\n",
    "    else:\n",
    "        idx_embedding = word2id.get(word)\n",
    "        if idx_embedding is not None:\n",
    "            embedding_matrix[index, :] = embeddings[idx_embedding, :]\n",
    "            \n",
    "X_train = tokenizer.texts_to_sequences(X_train_sentences)\n",
    "X_train = pad_sequences(X_train, maxlen=50)\n",
    "\n",
    "X_dev = tokenizer.texts_to_sequences(X_dev_sentences)\n",
    "X_dev = pad_sequences(X_dev, maxlen=50)\n",
    "\n",
    "X_test = tokenizer.texts_to_sequences(X_test_sentences)\n",
    "X_test = pad_sequences(X_test, maxlen=50)"
   ]
  },
  {
   "cell_type": "code",
   "execution_count": 64,
   "metadata": {
    "colab": {},
    "colab_type": "code",
    "id": "YNlpiGzYl1SL",
    "outputId": "03684086-49cc-4ea9-f7f8-fd4d0c960a5b"
   },
   "outputs": [],
   "source": [
    "from keras.layers import Dropout, Conv1D, MaxPooling1D, Flatten\n",
    "\n",
    "model_glove = Sequential()\n",
    "model_glove.add(Embedding(vocabulary_size, embeddings.shape[1], input_length=50, weights=[embedding_matrix], trainable=False))\n",
    "model_glove.add(Dropout(0.2))\n",
    "model_glove.add(Conv1D(128, 3, activation='relu'))\n",
    "model_glove.add(MaxPooling1D(pool_size=4))\n",
    "model_glove.add(LSTM(10, dropout = 0.2, recurrent_dropout = 0.2))\n",
    "model_glove.add(Dense(5, activation='sigmoid'))\n",
    "\n",
    "model_glove.compile(loss='categorical_crossentropy', optimizer='adam', metrics=['accuracy'])"
   ]
  },
  {
   "cell_type": "code",
   "execution_count": 65,
   "metadata": {
    "colab": {},
    "colab_type": "code",
    "id": "rhkViqPMl1SM",
    "outputId": "6ecb3b7f-e7b5-40ac-e083-98d450adc66d"
   },
   "outputs": [
    {
     "name": "stdout",
     "output_type": "stream",
     "text": [
      "Train on 8544 samples, validate on 1101 samples\n",
      "Epoch 1/6\n",
      "8544/8544 [==============================] - 8s 896us/step - loss: 1.5196 - acc: 0.3297 - val_loss: 1.4208 - val_acc: 0.3769\n",
      "Epoch 2/6\n",
      "8544/8544 [==============================] - 5s 639us/step - loss: 1.4099 - acc: 0.3831 - val_loss: 1.3636 - val_acc: 0.3878\n",
      "Epoch 3/6\n",
      "8544/8544 [==============================] - 6s 659us/step - loss: 1.3468 - acc: 0.3947 - val_loss: 1.3216 - val_acc: 0.3933\n",
      "Epoch 4/6\n",
      "8544/8544 [==============================] - 6s 665us/step - loss: 1.3023 - acc: 0.4100 - val_loss: 1.3855 - val_acc: 0.3642\n",
      "Epoch 5/6\n",
      "8544/8544 [==============================] - 6s 661us/step - loss: 1.2487 - acc: 0.4230 - val_loss: 1.3133 - val_acc: 0.3969\n",
      "Epoch 6/6\n",
      "8544/8544 [==============================] - 6s 662us/step - loss: 1.2094 - acc: 0.4362 - val_loss: 1.2982 - val_acc: 0.4069\n"
     ]
    }
   ],
   "source": [
    "history = model_glove.fit(X_train, y_train, epochs=6, batch_size=32, validation_data=(X_dev, y_dev))"
   ]
  },
  {
   "cell_type": "code",
   "execution_count": 66,
   "metadata": {},
   "outputs": [
    {
     "data": {
      "image/png": "[encoded data removed]",
      "text/plain": [
       "<Figure size 1152x432 with 2 Axes>"
      ]
     },
     "metadata": {},
     "output_type": "display_data"
    }
   ],
   "source": [
    "plot_history(history)"
   ]
  },
  {
   "cell_type": "code",
   "execution_count": 67,
   "metadata": {},
   "outputs": [],
   "source": [
    "y_test = np.argmax(model.predict(X_test), axis=1)\n",
    "np.savetxt('./data/output/convnet_lstm_y_test_sst.txt', y_test.astype(str), fmt='%s')"
   ]
  }
 ],
 "metadata": {
  "colab": {
   "name": "nlp_project.ipynb",
   "provenance": [],
   "version": "0.3.2"
  },
  "kernelspec": {
   "display_name": "Python [conda env:DL_hw]",
   "language": "python",
   "name": "conda-env-DL_hw-py"
  },
  "language_info": {
   "codemirror_mode": {
    "name": "ipython",
    "version": 3
   },
   "file_extension": ".py",
   "mimetype": "text/x-python",
   "name": "python",
   "nbconvert_exporter": "python",
   "pygments_lexer": "ipython3",
   "version": "3.6.7"
  }
 },
 "nbformat": 4,
 "nbformat_minor": 1
}
