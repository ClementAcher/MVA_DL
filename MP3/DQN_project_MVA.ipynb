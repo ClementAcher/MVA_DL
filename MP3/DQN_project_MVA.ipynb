{
 "cells": [
  {
   "cell_type": "markdown",
   "metadata": {
    "colab_type": "text",
    "ein.tags": "worksheet-0",
    "id": "Okj5Ec2pfQzj",
    "slideshow": {
     "slide_type": "-"
    }
   },
   "source": [
    "**You may need to install [OpenCV](https://pypi.python.org/pypi/opencv-python) and [scikit-video](http://www.scikit-video.org/stable/).**"
   ]
  },
  {
   "cell_type": "code",
   "execution_count": 1,
   "metadata": {
    "autoscroll": false,
    "colab": {
     "base_uri": "https://localhost:8080/",
     "height": 34
    },
    "colab_type": "code",
    "ein.hycell": false,
    "ein.tags": "worksheet-0",
    "executionInfo": {
     "elapsed": 8194,
     "status": "ok",
     "timestamp": 1550571279412,
     "user": {
      "displayName": "Clément Acher",
      "photoUrl": "",
      "userId": "08966402852635788512"
     },
     "user_tz": -60
    },
    "id": "nt8x9abGfQzl",
    "outputId": "b85a57c7-68f7-45f0-a3a2-1b8b1cbb97fe",
    "slideshow": {
     "slide_type": "-"
    }
   },
   "outputs": [
    {
     "name": "stderr",
     "output_type": "stream",
     "text": [
      "Using TensorFlow backend.\n"
     ]
    }
   ],
   "source": [
    "import keras\n",
    "import numpy as np\n",
    "import io\n",
    "import base64\n",
    "from IPython.display import HTML\n",
    "import skvideo.io\n",
    "import cv2\n",
    "import json\n",
    "from os.path import join\n",
    "\n",
    "from keras.models import Sequential, model_from_json\n",
    "from keras.layers.core import Dense\n",
    "from keras.optimizers import sgd\n",
    "from keras.layers import Conv2D, MaxPooling2D, Activation, AveragePooling2D, Reshape, BatchNormalization, Flatten\n",
    "\n",
    "VIDEO_FOLDER = './videos'\n",
    "PRETRAINED_FOLDER = './saved_models'"
   ]
  },
  {
   "cell_type": "markdown",
   "metadata": {
    "colab_type": "text",
    "ein.tags": "worksheet-0",
    "id": "Gt2i2zG5fQzq",
    "slideshow": {
     "slide_type": "-"
    }
   },
   "source": [
    "# MiniProject #3: Deep Reinforcement Learning"
   ]
  },
  {
   "cell_type": "markdown",
   "metadata": {
    "colab_type": "text",
    "ein.tags": "worksheet-0",
    "id": "AHRWhK7LfQzr",
    "slideshow": {
     "slide_type": "-"
    }
   },
   "source": [
    "__Notations__: $E_p$ is the expectation under probability $p$. Please justify each of your answer and widely comment your code."
   ]
  },
  {
   "cell_type": "markdown",
   "metadata": {
    "colab_type": "text",
    "ein.tags": "worksheet-0",
    "id": "S-dC4DEKfQzr",
    "slideshow": {
     "slide_type": "-"
    }
   },
   "source": [
    "# Context"
   ]
  },
  {
   "cell_type": "markdown",
   "metadata": {
    "colab_type": "text",
    "ein.tags": "worksheet-0",
    "id": "ZR02Ln3tfQzs",
    "slideshow": {
     "slide_type": "-"
    }
   },
   "source": [
    "In a reinforcement learning algorithm, we modelize each step $t$ as an action $a_t$ obtained from a state $s_t$, i.e. $\\{(a_{t},s_{t})_{t\\leq T}\\}$ having the Markov property. We consider a discount factor $\\gamma \\in [0,1]$ that ensures convergence. The goal is to find among all the policies $\\pi$, one that maximizes the expected reward:\n",
    "\n",
    "\\begin{equation*}\n",
    "R(\\pi)=\\sum_{t\\leq T}E_{p^{\\pi}}[\\gamma^t r(s_{t},a_{t})] \\> ,\n",
    "\\end{equation*}\n",
    "\n",
    "where: \n",
    "\\begin{equation*}p^{\\pi}(a_{0},a_{1},s_{1},...,a_{T},s_{T})=p(a_{0})\\prod_{t=1}^{T}\\pi(a_{t}|s_{t})p(s_{t+1}|s_{t},a_{t}) \\> .\n",
    "\\end{equation*}\n",
    "\n",
    "We note the $Q$-function:\n",
    "\n",
    "\\begin{equation*}Q^\\pi(s,a)=E_{p^{\\pi}}[\\sum_{t\\leq T}\\gamma^{t}r(s_{t},a_{t})|s_{0}=s,a_{0}=a] \\> .\n",
    "\\end{equation*}\n",
    "\n",
    "Thus, the optimal Q function is:\n",
    "\\begin{equation*}\n",
    "Q^*(s,a)=\\max_{\\pi}Q^\\pi(s,a) \\> .\n",
    "\\end{equation*}\n",
    "\n",
    "In this project, we will apply the deep reinforcement learning techniques to a simple game: an agent will have to learn from scratch a policy that will permit it maximizing a reward."
   ]
  },
  {
   "cell_type": "markdown",
   "metadata": {
    "colab_type": "text",
    "ein.tags": "worksheet-0",
    "id": "FuQJQ6H3fQzt",
    "slideshow": {
     "slide_type": "-"
    }
   },
   "source": [
    "## The environment, the agent and the game"
   ]
  },
  {
   "cell_type": "markdown",
   "metadata": {
    "colab_type": "text",
    "ein.tags": "worksheet-0",
    "id": "x1SZ7ORDfQzu",
    "slideshow": {
     "slide_type": "-"
    }
   },
   "source": [
    "### The environment"
   ]
  },
  {
   "cell_type": "markdown",
   "metadata": {
    "colab_type": "text",
    "ein.tags": "worksheet-0",
    "id": "w1c0QU4EfQzv",
    "slideshow": {
     "slide_type": "-"
    }
   },
   "source": [
    "```Environment``` is an abstract class that represents the states, rewards, and actions to obtain the new state."
   ]
  },
  {
   "cell_type": "code",
   "execution_count": 2,
   "metadata": {
    "autoscroll": false,
    "colab": {},
    "colab_type": "code",
    "ein.hycell": false,
    "ein.tags": "worksheet-0",
    "id": "hp-ZVhL_fQzw",
    "slideshow": {
     "slide_type": "-"
    }
   },
   "outputs": [],
   "source": [
    "class Environment(object):\n",
    "    def __init__(self):\n",
    "        pass\n",
    "\n",
    "    def act(self, act):\n",
    "        \"\"\"\n",
    "        One can act on the environment and obtain its reaction:\n",
    "        - the new state\n",
    "        - the reward of the new state\n",
    "        - should we continue the game?\n",
    "\n",
    "        :return: state, reward, game_over\n",
    "        \"\"\"\n",
    "        pass\n",
    "\n",
    "\n",
    "    def reset(self):\n",
    "        \"\"\"\n",
    "        Reinitialize the environment to a random state and returns\n",
    "        the original state\n",
    "\n",
    "        :return: state\n",
    "        \"\"\"\n",
    "        pass\n",
    "    \n",
    "    def draw(self):\n",
    "        \"\"\"\n",
    "        Visualize in the console or graphically the current state\n",
    "        \"\"\"\n",
    "        pass"
   ]
  },
  {
   "cell_type": "markdown",
   "metadata": {
    "colab_type": "text",
    "ein.tags": "worksheet-0",
    "id": "SH7G0Gv7fQzy",
    "slideshow": {
     "slide_type": "-"
    }
   },
   "source": [
    "The method ```act``` allows to act on the environment at a given state $s_t$ (stored internally), via action $a_t$. The method will return the new state $s_{t+1}$, the reward $r(s_{t},a_{t})$ and determines if $t\\leq T$ (*game_over*).\n",
    "\n",
    "The method ```reset``` simply reinitializes the environment to a random state $s_0$.\n",
    "\n",
    "The method ```draw``` displays the current state $s_t$ (this is useful to check the behavior of the Agent).\n",
    "\n",
    "We modelize $s_t$ as a tensor, while $a_t$ is an integer."
   ]
  },
  {
   "cell_type": "markdown",
   "metadata": {
    "colab_type": "text",
    "ein.tags": "worksheet-0",
    "id": "M8XhZTYrfQzz",
    "slideshow": {
     "slide_type": "-"
    }
   },
   "source": [
    "### The Agent"
   ]
  },
  {
   "cell_type": "markdown",
   "metadata": {
    "colab_type": "text",
    "ein.tags": "worksheet-0",
    "id": "psF49XKYfQzz",
    "slideshow": {
     "slide_type": "-"
    }
   },
   "source": [
    "The goal of the ```Agent``` is to interact with the ```Environment``` by proposing actions $a_t$ obtained from a given state $s_t$ to attempt to maximize its __reward__ $r(s_t,a_t)$. We propose the following abstract class:"
   ]
  },
  {
   "cell_type": "code",
   "execution_count": 3,
   "metadata": {
    "autoscroll": false,
    "colab": {},
    "colab_type": "code",
    "ein.hycell": false,
    "ein.tags": "worksheet-0",
    "id": "IIgUETaGfQz0",
    "slideshow": {
     "slide_type": "-"
    }
   },
   "outputs": [],
   "source": [
    "class Agent(object):\n",
    "    def __init__(self, epsilon=0.1, n_action=4):\n",
    "        self.epsilon = epsilon\n",
    "        self.n_action = n_action\n",
    "    \n",
    "    def set_epsilon(self,e):\n",
    "        self.epsilon = e\n",
    "\n",
    "    def act(self,s,train=True):\n",
    "        \"\"\" This function should return the next action to do:\n",
    "        an integer between 0 and 4 (not included) with a random exploration of epsilon\"\"\"\n",
    "        if train:\n",
    "            if np.random.rand() <= self.epsilon:\n",
    "                a = np.random.randint(0, self.n_action, size=1)[0]\n",
    "            else:\n",
    "                a = self.learned_act(s)\n",
    "        else: # in some cases, this can improve the performance.. remove it if poor performances\n",
    "            a = self.learned_act(s)\n",
    "\n",
    "        return a\n",
    "\n",
    "    def learned_act(self,s):\n",
    "        \"\"\" Act via the policy of the agent, from a given state s\n",
    "        it proposes an action a\"\"\"\n",
    "        pass\n",
    "\n",
    "    def reinforce(self, s, n_s, a, r, game_over_):\n",
    "        \"\"\" This function is the core of the learning algorithm. \n",
    "        It takes as an input the current state s_, the next state n_s_\n",
    "        the action a_ used to move from s_ to n_s_ and the reward r_.\n",
    "        \n",
    "        Its goal is to learn a policy.\n",
    "        \"\"\"\n",
    "        pass\n",
    "\n",
    "    def save(self):\n",
    "        \"\"\" This function returns basic stats if applicable: the\n",
    "        loss and/or the model\"\"\"\n",
    "        pass\n",
    "\n",
    "    def load(self):\n",
    "        \"\"\" This function allows to restore a model\"\"\"\n",
    "        pass"
   ]
  },
  {
   "cell_type": "markdown",
   "metadata": {
    "colab_type": "text",
    "ein.tags": "worksheet-0",
    "id": "6tPCaRllfQz3",
    "slideshow": {
     "slide_type": "-"
    }
   },
   "source": [
    "***\n",
    "__Question 1__:\n",
    "Explain the function act. Why is ```epsilon``` essential?"
   ]
  },
  {
   "cell_type": "markdown",
   "metadata": {
    "colab_type": "text",
    "ein.tags": "worksheet-0",
    "id": "gmCryYtlfQz4",
    "slideshow": {
     "slide_type": "-"
    }
   },
   "source": [
    "> During inference time, `act` returns the action following the policy learned by the agent. During training, the agent only do so with a probability of $1 - \\epsilon$. With a probability of $\\epsilon$, the agent takes a random action.\n",
    "The reason for this is to have the model \"explore\" other possible actions than just the one corresponding to the policy. If $\\epsilon$ is set to 0, the agent will almost surely get stuck on a sub-optimal policy - it will only follows the policy learned in the first few steps of the training without trying out other possible actions. $\\epsilon$ sets the trade-off between exploration and exploitation."
   ]
  },
  {
   "cell_type": "markdown",
   "metadata": {
    "colab_type": "text",
    "ein.tags": "worksheet-0",
    "id": "-RNDtPQ9fQz5",
    "slideshow": {
     "slide_type": "-"
    }
   },
   "source": [
    "***\n",
    "### The Game"
   ]
  },
  {
   "cell_type": "markdown",
   "metadata": {
    "colab_type": "text",
    "ein.tags": "worksheet-0",
    "id": "TD0peq_kfQz6",
    "slideshow": {
     "slide_type": "-"
    }
   },
   "source": [
    "The ```Agent``` and the ```Environment``` work in an interlaced way as in the following (take some time to understand this code as it is the core of the project)\n",
    "\n",
    "```python\n",
    "\n",
    "epoch = 300\n",
    "env = Environment()\n",
    "agent = Agent()\n",
    "\n",
    "\n",
    "# Number of won games\n",
    "score = 0\n",
    "loss = 0\n",
    "\n",
    "\n",
    "for e in range(epoch):\n",
    "    # At each epoch, we restart to a fresh game and get the initial state\n",
    "    state = env.reset()\n",
    "    # This assumes that the games will end\n",
    "    game_over = False\n",
    "\n",
    "    win = 0\n",
    "    lose = 0\n",
    "    \n",
    "    while not game_over:\n",
    "        # The agent performs an action\n",
    "        action = agent.act(state)\n",
    "\n",
    "        # Apply an action to the environment, get the next state, the reward\n",
    "        # and if the games end\n",
    "        prev_state = state\n",
    "        state, reward, game_over = env.act(action)\n",
    "\n",
    "        # Update the counters\n",
    "        if reward > 0:\n",
    "            win = win + reward\n",
    "        if reward < 0:\n",
    "            lose = lose -reward\n",
    "\n",
    "        # Apply the reinforcement strategy\n",
    "        loss = agent.reinforce(prev_state, state,  action, reward, game_over)\n",
    "\n",
    "    # Save as a mp4\n",
    "    if e % 10 == 0:\n",
    "        env.draw(e)\n",
    "\n",
    "    # Update stats\n",
    "    score += win-lose\n",
    "\n",
    "    print(\"Epoch {:03d}/{:03d} | Loss {:.4f} | Win/lose count {}/{} ({})\"\n",
    "          .format(e, epoch, loss, win, lose, win-lose))\n",
    "    agent.save()\n",
    "```"
   ]
  },
  {
   "cell_type": "markdown",
   "metadata": {
    "colab_type": "text",
    "ein.tags": "worksheet-0",
    "id": "IFrLx0XPfQz7",
    "slideshow": {
     "slide_type": "-"
    }
   },
   "source": [
    "# The game, *eat cheese*"
   ]
  },
  {
   "cell_type": "markdown",
   "metadata": {
    "colab_type": "text",
    "ein.tags": "worksheet-0",
    "id": "WRctF1DAfQz8",
    "slideshow": {
     "slide_type": "-"
    }
   },
   "source": [
    "A rat runs on an island and tries to eat as much as possible. The island is subdivided into $N\\times N$ cells, in which there are cheese (+0.5) and poisonous cells (-1). The rat has a visibility of 2 cells (thus it can see $5^2$ cells). The rat is given a time $T$ to accumulate as much food as possible. It can perform 4 actions: going up, down, left, right. \n",
    "\n",
    "The goal is to code an agent to solve this task that will learn by trial and error. We propose the following environment:"
   ]
  },
  {
   "cell_type": "code",
   "execution_count": 4,
   "metadata": {
    "autoscroll": false,
    "colab": {},
    "colab_type": "code",
    "ein.hycell": false,
    "ein.tags": "worksheet-0",
    "id": "1xjQvrplfQz9",
    "slideshow": {
     "slide_type": "-"
    }
   },
   "outputs": [],
   "source": [
    "class Environment(object):\n",
    "    def __init__(self, grid_size=10, max_time=500, temperature=0.1):\n",
    "        grid_size = grid_size+4\n",
    "        self.grid_size = grid_size\n",
    "        self.max_time = max_time\n",
    "        self.temperature = temperature\n",
    "\n",
    "        #board on which one plays\n",
    "        self.board = np.zeros((grid_size,grid_size))\n",
    "        self.position = np.zeros((grid_size,grid_size))\n",
    "\n",
    "        # coordinate of the cat\n",
    "        self.x = 0\n",
    "        self.y = 1\n",
    "\n",
    "        # self time\n",
    "        self.t = 0\n",
    "\n",
    "        self.scale=16\n",
    "\n",
    "        self.to_draw = np.zeros((max_time+2, grid_size*self.scale, grid_size*self.scale, 3))\n",
    "\n",
    "\n",
    "    def draw(self,e):\n",
    "        skvideo.io.vwrite(join(VIDEO_FOLDER, str(e) + '.mp4'), self.to_draw)\n",
    "\n",
    "    def get_frame(self,t):\n",
    "        b = np.zeros((self.grid_size,self.grid_size,3))+128\n",
    "        b[self.board>0,0] = 256\n",
    "        b[self.board < 0, 2] = 256\n",
    "        b[self.x,self.y,:]=256\n",
    "        b[-2:,:,:]=0\n",
    "        b[:,-2:,:]=0\n",
    "        b[:2,:,:]=0\n",
    "        b[:,:2,:]=0\n",
    "        \n",
    "        b =  cv2.resize(b, None, fx=self.scale, fy=self.scale, interpolation=cv2.INTER_NEAREST)\n",
    "\n",
    "        self.to_draw[t,:,:,:]=b\n",
    "\n",
    "\n",
    "    def act(self, action):\n",
    "        \"\"\"This function returns the new state, reward and decides if the\n",
    "        game ends.\"\"\"\n",
    "\n",
    "        self.get_frame(int(self.t))\n",
    "\n",
    "        self.position = np.zeros((self.grid_size, self.grid_size))\n",
    "\n",
    "        self.position[0:2,:]= -1\n",
    "        self.position[:,0:2] = -1\n",
    "        self.position[-2:, :] = -1\n",
    "        self.position[-2:, :] = -1\n",
    "\n",
    "        self.position[self.x, self.y] = 1\n",
    "        if action == 0:\n",
    "            if self.x == self.grid_size-3:\n",
    "                self.x = self.x-1\n",
    "            else:\n",
    "                self.x = self.x + 1\n",
    "        elif action == 1:\n",
    "            if self.x == 2:\n",
    "                self.x = self.x+1\n",
    "            else:\n",
    "                self.x = self.x-1\n",
    "        elif action == 2:\n",
    "            if self.y == self.grid_size - 3:\n",
    "                self.y = self.y - 1\n",
    "            else:\n",
    "                self.y = self.y + 1\n",
    "        elif action == 3:\n",
    "            if self.y == 2:\n",
    "                self.y = self.y + 1\n",
    "            else:\n",
    "                self.y = self.y - 1\n",
    "        else:\n",
    "            RuntimeError('Error: action not recognized')\n",
    "\n",
    "        self.t = self.t + 1\n",
    "        reward = self.board[self.x, self.y]\n",
    "        self.board[self.x, self.y] = 0\n",
    "        game_over = self.t > self.max_time\n",
    "        state = np.concatenate((self.board.reshape(self.grid_size, self.grid_size,1),\n",
    "                        self.position.reshape(self.grid_size, self.grid_size,1)),axis=2)\n",
    "        state = state[self.x-2:self.x+3,self.y-2:self.y+3,:]\n",
    "\n",
    "        return state, reward, game_over\n",
    "\n",
    "    def reset(self):\n",
    "        \"\"\"This function resets the game and returns the initial state\"\"\"\n",
    "\n",
    "        self.x = np.random.randint(3, self.grid_size-3, size=1)[0]\n",
    "        self.y = np.random.randint(3, self.grid_size-3, size=1)[0]\n",
    "\n",
    "\n",
    "        bonus = 0.5*np.random.binomial(1,self.temperature,size=self.grid_size**2)\n",
    "        bonus = bonus.reshape(self.grid_size,self.grid_size)\n",
    "\n",
    "        malus = -1.0*np.random.binomial(1,self.temperature,size=self.grid_size**2)\n",
    "        malus = malus.reshape(self.grid_size, self.grid_size)\n",
    "\n",
    "        self.to_draw = np.zeros((self.max_time+2, self.grid_size*self.scale, self.grid_size*self.scale, 3))\n",
    "\n",
    "\n",
    "        malus[bonus>0]=0\n",
    "\n",
    "        self.board = bonus + malus\n",
    "\n",
    "        self.position = np.zeros((self.grid_size, self.grid_size))\n",
    "        self.position[0:2,:]= -1\n",
    "        self.position[:,0:2] = -1\n",
    "        self.position[-2:, :] = -1\n",
    "        self.position[-2:, :] = -1\n",
    "        self.board[self.x,self.y] = 0\n",
    "        self.t = 0\n",
    "\n",
    "        state = np.concatenate((\n",
    "                               self.board.reshape(self.grid_size, self.grid_size,1),\n",
    "                        self.position.reshape(self.grid_size, self.grid_size,1)),axis=2)\n",
    "\n",
    "        state = state[self.x - 2:self.x + 3, self.y - 2:self.y + 3, :]\n",
    "        return state"
   ]
  },
  {
   "cell_type": "markdown",
   "metadata": {
    "colab_type": "text",
    "ein.tags": "worksheet-0",
    "id": "Df7o-H7jfQz_",
    "slideshow": {
     "slide_type": "-"
    }
   },
   "source": [
    "The following elements are important because they correspond to the hyper parameters for this project:"
   ]
  },
  {
   "cell_type": "code",
   "execution_count": 5,
   "metadata": {
    "autoscroll": false,
    "colab": {},
    "colab_type": "code",
    "ein.hycell": false,
    "ein.tags": "worksheet-0",
    "id": "KwNvWJE-fQ0A",
    "slideshow": {
     "slide_type": "-"
    }
   },
   "outputs": [],
   "source": [
    "# parameters\n",
    "size = 13\n",
    "T = 200\n",
    "temperature = 0.3\n",
    "epochs_train = 5 # set small when debugging\n",
    "epochs_test = 5 # set small when debugging\n",
    "\n",
    "# display videos\n",
    "def display_videos(name):\n",
    "    video = io.open(join(VIDEO_FOLDER, name), 'r+b').read()\n",
    "    encoded = base64.b64encode(video)\n",
    "    return '''<video alt=\"test\" controls>\n",
    "                <source src=\"data:video/mp4;base64,{0}\" type=\"video/mp4\" />\n",
    "             </video>'''.format(encoded.decode('ascii'))"
   ]
  },
  {
   "cell_type": "markdown",
   "metadata": {
    "colab_type": "text",
    "ein.tags": "worksheet-0",
    "id": "YvTPLSzNfQ0C",
    "slideshow": {
     "slide_type": "-"
    }
   },
   "source": [
    "__Question 2__ Explain the use of the arrays ```position``` and ```board```.\n",
    "\n",
    "> ```position``` and ```board``` have both a size of $(GridSize + 4)^2$.  While the mouse can only move in a grid with a size of $GridSize$, this trick is used to return a state of consistent size ($5\\times5$) even when the mouse is on an edge of the board. \n",
    "\n",
    "> ```board``` contains the position of the cheese and poisonous cells, more precisely, the value of the corresponding reward. ```position``` contains the boundaries of the grid of the size $GridSize$ : the mouse can't go to the cells whose values are $-1$."
   ]
  },
  {
   "cell_type": "markdown",
   "metadata": {
    "colab_type": "text",
    "ein.tags": "worksheet-0",
    "id": "hed56JLpfQ0D",
    "slideshow": {
     "slide_type": "-"
    }
   },
   "source": [
    "## Random Agent"
   ]
  },
  {
   "cell_type": "markdown",
   "metadata": {
    "colab_type": "text",
    "ein.tags": "worksheet-0",
    "id": "IE2nEu8gfQ0E",
    "slideshow": {
     "slide_type": "-"
    }
   },
   "source": [
    "***\n",
    "__Question 3__ Implement a random Agent (only ```learned_act``` needs to be implemented):"
   ]
  },
  {
   "cell_type": "code",
   "execution_count": 6,
   "metadata": {
    "autoscroll": false,
    "colab": {},
    "colab_type": "code",
    "ein.hycell": false,
    "ein.tags": "worksheet-0",
    "id": "wB4FDE8DfQ0F",
    "slideshow": {
     "slide_type": "-"
    }
   },
   "outputs": [],
   "source": [
    "class RandomAgent(Agent):\n",
    "    def __init__(self):\n",
    "        super(RandomAgent, self).__init__()\n",
    "        pass\n",
    "\n",
    "    def learned_act(self, s):\n",
    "        \"\"\"Return random action\"\"\"\n",
    "        return np.random.randint(self.n_action)"
   ]
  },
  {
   "cell_type": "markdown",
   "metadata": {
    "colab_type": "text",
    "ein.tags": "worksheet-0",
    "id": "VYctw3uffQ0H",
    "slideshow": {
     "slide_type": "-"
    }
   },
   "source": [
    "***\n",
    "***\n",
    "__Question 4__ Visualize the game moves. You need to fill in the following function for the evaluation:"
   ]
  },
  {
   "cell_type": "code",
   "execution_count": 7,
   "metadata": {
    "autoscroll": false,
    "colab": {},
    "colab_type": "code",
    "ein.hycell": false,
    "ein.tags": "worksheet-0",
    "id": "2Xk1Hd-5fQ0I",
    "slideshow": {
     "slide_type": "-"
    }
   },
   "outputs": [],
   "source": [
    "def test(agent, env, epochs, prefix=''):\n",
    "    # Number of won games\n",
    "    score = 0\n",
    "    for e in range(epochs):\n",
    "        state = env.reset()\n",
    "        game_over = False\n",
    "        win = 0\n",
    "        lose = 0\n",
    "\n",
    "        while not game_over:\n",
    "            # The agent performs an action\n",
    "            action = agent.act(state)\n",
    "\n",
    "            # Apply an action to the environment, get the next state, the reward\n",
    "            # and if the games end\n",
    "            prev_state = state\n",
    "            state, reward, game_over = env.act(action)\n",
    "\n",
    "            # Update the counters\n",
    "            if reward > 0:\n",
    "                win = win + reward\n",
    "            if reward < 0:\n",
    "                lose = lose - reward\n",
    "\n",
    "        # Save as a mp4\n",
    "        env.draw(prefix+str(e))\n",
    "\n",
    "        # Update stats\n",
    "        score = score + win - lose\n",
    "\n",
    "        print(\"Win/lose count {}/{}. Average score ({})\"\n",
    "              .format(win, lose, score/(1+e)))\n",
    "    print('Final score: '+ str(score/epochs))"
   ]
  },
  {
   "cell_type": "code",
   "execution_count": 8,
   "metadata": {
    "autoscroll": false,
    "colab": {
     "base_uri": "https://localhost:8080/",
     "height": 273
    },
    "colab_type": "code",
    "ein.hycell": false,
    "ein.tags": "worksheet-0",
    "executionInfo": {
     "elapsed": 14315,
     "status": "ok",
     "timestamp": 1550571285561,
     "user": {
      "displayName": "Clément Acher",
      "photoUrl": "",
      "userId": "08966402852635788512"
     },
     "user_tz": -60
    },
    "id": "I5QA8ktlfQ0K",
    "outputId": "01283cc2-2e33-452c-dab8-0a248fc6116c",
    "slideshow": {
     "slide_type": "-"
    }
   },
   "outputs": [
    {
     "name": "stdout",
     "output_type": "stream",
     "text": [
      "Win/lose count 8.0/18.0. Average score (-10.0)\n",
      "Win/lose count 11.0/8.0. Average score (-3.5)\n",
      "Win/lose count 9.5/13.0. Average score (-3.5)\n",
      "Win/lose count 13.0/11.0. Average score (-2.125)\n",
      "Win/lose count 16.0/13.0. Average score (-1.1)\n",
      "Final score: -1.1\n"
     ]
    },
    {
     "data": {
      "text/html": [
       "<video alt=\"test\" controls>\n",
       "                <source src=\"data:video/mp4;base64,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\" type=\"video/mp4\" />\n",
       "             </video>"
      ],
      "text/plain": [
       "<IPython.core.display.HTML object>"
      ]
     },
     "execution_count": 8,
     "metadata": {},
     "output_type": "execute_result"
    }
   ],
   "source": [
    "# Initialize the game\n",
    "env = Environment(grid_size=size, max_time=T, temperature=temperature)\n",
    "\n",
    "# Initialize the agent!\n",
    "agent = RandomAgent()\n",
    "\n",
    "test(agent, env, epochs_test, prefix='random')\n",
    "HTML(display_videos('random0.mp4'))"
   ]
  },
  {
   "cell_type": "markdown",
   "metadata": {
    "colab_type": "text",
    "ein.tags": "worksheet-0",
    "id": "39-hPAWlfQ0O",
    "slideshow": {
     "slide_type": "-"
    }
   },
   "source": [
    "***\n",
    "## DQN"
   ]
  },
  {
   "cell_type": "markdown",
   "metadata": {
    "colab_type": "text",
    "ein.tags": "worksheet-0",
    "id": "IQ9xDkF-fQ0P",
    "slideshow": {
     "slide_type": "-"
    }
   },
   "source": [
    "Let us assume here that $T=\\infty$.\n",
    "\n",
    "***\n",
    "__Question 5__ Let $\\pi$ be a policy, show that:\n",
    "\n",
    "\\begin{equation*}\n",
    "Q^{\\pi}(s,a)=E_{(s',a')\\sim p(.|s,a)}[r(s,a)+\\gamma Q^{\\pi}(s',a')]\n",
    "\\end{equation*}\n",
    "\n",
    "Then, show that for the optimal policy $\\pi^*$ (we assume its existence), the following holds: \n",
    "\n",
    "\\begin{equation*}\n",
    "Q^{*}(s,a)=E_{s'\\sim \\pi^*(.|s,a)}[r(s,a)+\\gamma\\max_{a'}Q^{*}(s',a')].\n",
    "\\end{equation*}\n",
    "Finally, deduce that a plausible objective is:\n",
    "\n",
    "\\begin{equation*}\n",
    "\\mathcal{L}(\\theta)=E_{s' \\sim \\pi^*(.|s,a)}\\Vert r+\\gamma\\max\\max_{a'}Q(s',a',\\theta)-Q(s,a,\\theta)\\Vert^{2}.\n",
    "\\end{equation*}\n",
    "\n",
    "\n"
   ]
  },
  {
   "cell_type": "markdown",
   "metadata": {
    "colab_type": "text",
    "ein.tags": "worksheet-0",
    "id": "MQceZC-AfQ0Q",
    "slideshow": {
     "slide_type": "-"
    }
   },
   "source": [
    "**1.**\n",
    ">  \\begin{align*}\n",
    "    Q^\\pi(s,a) &= E_{p^{\\pi}}(\\sum_{t \\geq 0}\\gamma^{t}r(s_{t},a_{t})|s_{0}=s,a_{0}=a)\\\\\n",
    "               &= E_{p^{\\pi}}(r(s, a) + \\gamma \\sum_{t \\geq 0}\\gamma^{t}r(s_{t+1},a_{t+1}))\\\\\n",
    "               &= r(s, a) + \\gamma \\sum_{s'_1, a'_1} [p(s_1=s'_1, a_1=a'_1 | s_0=s, a_0=a) E_{p^{\\pi}}(\\sum_{t \\geq 0}\\gamma^{t}r(s_{t+1},a_{t+1}) | s_1=s'_1, a_1=a'_1)]\\\\\n",
    "               &= r(s, a) + \\gamma \\sum_{s'_1, a'_1} p(s_1=s'_1, a_1=a'_1 | s_0=s, a_0=a) Q(s'_1, a'_1)\\\\\n",
    "    &= r(s, a) + \\gamma E_{s', a' \\sim p(.|s, a)}[Q^\\pi(s', a')]\n",
    "  \\end{align*}\n",
    "\n"
   ]
  },
  {
   "cell_type": "markdown",
   "metadata": {},
   "source": [
    "**2.**\n",
    ">  $$Q^*(s, a) = \\max_\\pi Q^\\pi(s,a)$$\n",
    " \n",
    " We can derive from the previous result that:\n",
    "\n",
    ">  \\begin{align*}\n",
    "    Q^*(s,a) &= \\max_\\pi(r(s, a) + \\gamma \\sum_{s'_1, a'_1} p(s_1=s'_1, a_1=a'_1 | s_0=s, a_0=a) Q^\\pi(s'_1, a'_1))\\\\\n",
    "             &= \\max_\\pi(r(s, a) + \\gamma \\sum_{s'_1} p(s_1=s'_1 | s_0=s, a_0=a) Q^\\pi(s'_1, \\pi(s'_1)))\\\\\n",
    "             &= r(s, a) + \\gamma \\sum_{s'_1} p(s_1=s'_1 | s_0=s, a_0=a) \\max_\\pi(Q^\\pi(s'_1, \\pi(s'_1)))\\\\\n",
    "             &= r(s, a) + \\gamma \\sum_{s'_1} p(s_1=s'_1 | s_0=s, a_0=a) Q^*(s'_1, \\pi(s'_1)))\n",
    "  \\end{align*}\n",
    "\n",
    "  Using the fact that $Q^*(s', \\pi(s') = \\max_{a'} Q^*(s', a')$, we finally get\n",
    "\n",
    ">  \\begin{align*}\n",
    "    Q^*(s,a) &= r(s, a) + \\gamma \\sum_{s'_1} p(s_1=s'_1 | s_0=s, a_0=a) \\max_{a'} Q^*(s'_1, a'))\\\\\n",
    "             &= E_{s'\\sim \\pi^*(.|s,a)}[r(s,a)+\\gamma\\max_{a'}Q^{*}(s',a')]\n",
    "  \\end{align*}\n",
    "\n"
   ]
  },
  {
   "cell_type": "markdown",
   "metadata": {},
   "source": [
    "**3.** \n",
    "\n",
    ">\\begin{align*}\n",
    "E_{s' \\sim \\pi^*(.|s,a)} [r+\\gamma\\max_{a'}Q(s',a',\\theta)-Q(s,a,\\theta)] &= Q^*(s,a,\\theta)-Q(s,a,\\theta)\n",
    "\\end{align*}\n",
    "\n",
    ">according to the second formula. Minizing this distance corresponds to getting $\\theta$ so that $Q$ corresponds to the optimal policy. If it converges, using $Q$ to choose the action to take will lead the agent to follow the optimal policy."
   ]
  },
  {
   "cell_type": "markdown",
   "metadata": {
    "colab_type": "text",
    "ein.tags": "worksheet-0",
    "id": "oIcyQsdDfQ0S",
    "slideshow": {
     "slide_type": "-"
    }
   },
   "source": [
    "***\n",
    "The DQN-learning algorithm relies on these derivations to train the parameters $\\theta$ of a Deep Neural Network:\n",
    "\n",
    "1. At the state $s_t$, select the action $a_t$ with best reward using $Q_t$ and store the results;\n",
    "\n",
    "2. Obtain the new state $s_{t+1}$ from the environment $p$;\n",
    "\n",
    "3. Store $(s_t,a_t,s_{t+1})$;\n",
    "\n",
    "4. Obtain $Q_{t+1}$ by minimizing  $\\mathcal{L}$ from a recovered batch from the previously stored results.\n",
    "\n",
    "***\n",
    "__Question 6__ Implement the class ```Memory``` that stores moves (in a replay buffer) via ```remember``` and provides a ```random_access``` to these. Specify a maximum memory size to avoid side effects. You can for example use a ```list()``` and set by default ```max_memory=100```."
   ]
  },
  {
   "cell_type": "code",
   "execution_count": 9,
   "metadata": {
    "autoscroll": false,
    "colab": {},
    "colab_type": "code",
    "ein.hycell": false,
    "ein.tags": "worksheet-0",
    "id": "UuTzjrjvfQ0T",
    "slideshow": {
     "slide_type": "-"
    }
   },
   "outputs": [],
   "source": [
    "import random\n",
    "\n",
    "class Memory(object):\n",
    "    def __init__(self, max_memory=100):\n",
    "        self.max_memory = max_memory\n",
    "        self.memory = list()\n",
    "\n",
    "    def remember(self, m):\n",
    "        self.memory.append(m)\n",
    "        if len(self.memory) > self.max_memory:\n",
    "            self.memory.pop(0)\n",
    "\n",
    "    def random_access(self):\n",
    "         return random.choice(self.memory)"
   ]
  },
  {
   "cell_type": "markdown",
   "metadata": {
    "colab_type": "text",
    "ein.tags": "worksheet-0",
    "id": "QJn0W_hxfQ0V",
    "slideshow": {
     "slide_type": "-"
    }
   },
   "source": [
    "***\n",
    "The pipeline we will use for training is given below:"
   ]
  },
  {
   "cell_type": "code",
   "execution_count": 10,
   "metadata": {
    "autoscroll": false,
    "colab": {},
    "colab_type": "code",
    "ein.hycell": false,
    "ein.tags": "worksheet-0",
    "id": "_KZqZNsKfQ0W",
    "slideshow": {
     "slide_type": "-"
    }
   },
   "outputs": [],
   "source": [
    "def train(agent, env, epoch, prefix=''):\n",
    "    # Number of won games\n",
    "    score = 0\n",
    "    loss = 0\n",
    "\n",
    "    for e in range(epoch):\n",
    "        # At each epoch, we restart to a fresh game and get the initial state\n",
    "        state = env.reset()\n",
    "        # This assumes that the games will terminate\n",
    "        game_over = False\n",
    "\n",
    "        win = 0\n",
    "        lose = 0\n",
    "\n",
    "        while not game_over:\n",
    "            # The agent performs an action\n",
    "            action = agent.act(state)\n",
    "\n",
    "            # Apply an action to the environment, get the next state, the reward\n",
    "            # and if the games end\n",
    "            prev_state = state\n",
    "            state, reward, game_over = env.act(action)\n",
    "\n",
    "            # Update the counters\n",
    "            if reward > 0:\n",
    "                win = win + reward\n",
    "            if reward < 0:\n",
    "                lose = lose - reward\n",
    "\n",
    "            # Apply the reinforcement strategy\n",
    "            loss = agent.reinforce(prev_state, state, action, reward,\n",
    "                                   game_over)\n",
    "\n",
    "        # Save as a mp4\n",
    "        if e % 10 == 0:\n",
    "            env.draw(prefix + str(e))\n",
    "\n",
    "        # Update stats\n",
    "        score += win - lose\n",
    "\n",
    "        print(\"Epoch {:03d}/{:03d} | Loss {:.4f} | Win/lose count {}/{} ({})\".\n",
    "              format(e, epoch, loss, win, lose, win - lose))\n",
    "\n",
    "        agent.save(name_weights=prefix + 'model_e_{}.h5'.format(e), name_model=prefix + 'model.json')"
   ]
  },
  {
   "cell_type": "markdown",
   "metadata": {
    "colab_type": "text",
    "ein.tags": "worksheet-0",
    "id": "UrTZLlCufQ0X",
    "slideshow": {
     "slide_type": "-"
    }
   },
   "source": [
    "***\n",
    "__Question 7__ Implement the DQN training algorithm using a cascade of fully connected layers. You can use different learning rate, batch size or memory size parameters. In particular, the loss might oscillate while the player will start to win the games. You have to find a good criterium."
   ]
  },
  {
   "cell_type": "code",
   "execution_count": 11,
   "metadata": {
    "autoscroll": false,
    "colab": {},
    "colab_type": "code",
    "ein.hycell": false,
    "ein.tags": "worksheet-0",
    "id": "d4ymyC-2fQ0Y",
    "slideshow": {
     "slide_type": "-"
    }
   },
   "outputs": [],
   "source": [
    "class DQN(Agent):\n",
    "    def __init__(self,\n",
    "                 grid_size=13,\n",
    "                 epsilon=0.1,\n",
    "                 memory_size=100,\n",
    "                 batch_size=16,\n",
    "                 n_state=2):\n",
    "        super(DQN, self).__init__(epsilon=epsilon)\n",
    "\n",
    "        # Discount for Q learning\n",
    "        self.discount = 0.99\n",
    "\n",
    "        self.grid_size = grid_size\n",
    "\n",
    "        # number of state\n",
    "        self.n_state = n_state\n",
    "\n",
    "        # Memory\n",
    "        self.memory = Memory(memory_size)\n",
    "\n",
    "        # Batch size when learning\n",
    "        self.batch_size = batch_size\n",
    "\n",
    "    def learned_act(self, s):\n",
    "        return np.argmax(self.model.predict(np.array([s]))[0])\n",
    "\n",
    "    def reinforce(self, s_, n_s_, a_, r_, game_over_):\n",
    "        # Two steps: first memorize the states, second learn from the pool\n",
    "\n",
    "        self.memory.remember([s_, n_s_, a_, r_, game_over_])\n",
    "\n",
    "        input_states = np.zeros((self.batch_size, 5, 5, self.n_state))\n",
    "\n",
    "        next_states = np.zeros((self.batch_size, 5, 5, self.n_state))\n",
    "        actions = np.zeros(self.batch_size, dtype=int)\n",
    "        rewards = np.zeros(self.batch_size)\n",
    "        game_overs = np.zeros(self.batch_size)\n",
    "\n",
    "        for i in range(self.batch_size):\n",
    "            input_states[i], next_states[i], actions[i], rewards[\n",
    "                i], game_overs[i] = self.memory.random_access()\n",
    "\n",
    "        Q_current = self.model.predict(input_states)\n",
    "        Q_next = self.model.predict(next_states)\n",
    "        target_q = Q_current.copy()\n",
    "\n",
    "        for i, (game_over, action, reward, Q_n) in enumerate(\n",
    "                zip(game_overs, actions, rewards, Q_next)):\n",
    "            if game_over:\n",
    "                target = reward\n",
    "            else:\n",
    "                target = reward + self.discount * np.max(Q_n)\n",
    "            target_q[i, action] = target\n",
    "\n",
    "        # Clip to avoid exploding gradient\n",
    "        target_q = np.clip(target_q, -3, 3)\n",
    "\n",
    "        l = self.model.train_on_batch(input_states, target_q)\n",
    "\n",
    "        return l\n",
    "\n",
    "    def save(self, name_weights='model.h5', name_model='model.json'):\n",
    "        self.model.save_weights(join(PRETRAINED_FOLDER, name_weights), overwrite=True)\n",
    "        with open(join(PRETRAINED_FOLDER, name_model), \"w\") as outfile:\n",
    "            json.dump(self.model.to_json(), outfile)\n",
    "\n",
    "    def load(self, name_weights='model.h5', name_model='model.json'):\n",
    "        with open(join(PRETRAINED_FOLDER, name_model), \"r\") as jfile:\n",
    "            model = model_from_json(json.load(jfile))\n",
    "        model.load_weights(join(PRETRAINED_FOLDER, name_weights))\n",
    "        model.compile(\"sgd\", \"mse\")\n",
    "        self.model = model\n",
    "\n",
    "\n",
    "class DQN_FC(DQN):\n",
    "    def __init__(self, lr=0.1, **kwargs):\n",
    "        super(DQN_FC, self).__init__(**kwargs)\n",
    "\n",
    "        model = Sequential()\n",
    "        model.add(Flatten(input_shape=(5, 5, self.n_state)))\n",
    "        model.add(Dense(48, activation='relu'))\n",
    "        model.add(Dense(24, activation='relu'))\n",
    "        model.add(Dense(self.n_action, activation='linear'))\n",
    "\n",
    "        model.compile(sgd(lr=lr, decay=1e-4, momentum=0), \"mse\")\n",
    "        self.model = model"
   ]
  },
  {
   "cell_type": "code",
   "execution_count": 12,
   "metadata": {
    "autoscroll": false,
    "colab": {
     "base_uri": "https://localhost:8080/",
     "height": 619
    },
    "colab_type": "code",
    "ein.hycell": false,
    "ein.tags": "worksheet-0",
    "executionInfo": {
     "elapsed": 129603,
     "status": "error",
     "timestamp": 1550570872302,
     "user": {
      "displayName": "Clément Acher",
      "photoUrl": "",
      "userId": "08966402852635788512"
     },
     "user_tz": -60
    },
    "id": "AjS4E1pefQ0a",
    "outputId": "5828088a-a2c7-45c0-fba4-eeb357225358",
    "scrolled": true,
    "slideshow": {
     "slide_type": "-"
    }
   },
   "outputs": [
    {
     "name": "stdout",
     "output_type": "stream",
     "text": [
      "Epoch 000/200 | Loss 0.0107 | Win/lose count 1.5/1.0 (0.5)\n",
      "Epoch 001/200 | Loss 0.0259 | Win/lose count 3.5/1.0 (2.5)\n",
      "Epoch 002/200 | Loss 0.0057 | Win/lose count 2.5/4.0 (-1.5)\n",
      "Epoch 003/200 | Loss 0.0314 | Win/lose count 2.0/1.0 (1.0)\n",
      "Epoch 004/200 | Loss 0.0072 | Win/lose count 1.5/4.0 (-2.5)\n",
      "Epoch 005/200 | Loss 0.0041 | Win/lose count 2.5/5.0 (-2.5)\n",
      "Epoch 006/200 | Loss 0.0074 | Win/lose count 3.0/2.0 (1.0)\n",
      "Epoch 007/200 | Loss 0.0058 | Win/lose count 6.0/4.0 (2.0)\n",
      "Epoch 008/200 | Loss 0.0059 | Win/lose count 1.5/5.0 (-3.5)\n",
      "Epoch 009/200 | Loss 0.0217 | Win/lose count 3.0/6.0 (-3.0)\n",
      "Epoch 010/200 | Loss 0.0057 | Win/lose count 4.0/2.0 (2.0)\n",
      "Epoch 011/200 | Loss 0.0029 | Win/lose count 2.0/1.0 (1.0)\n",
      "Epoch 012/200 | Loss 0.0198 | Win/lose count 3.5/7.0 (-3.5)\n",
      "Epoch 013/200 | Loss 0.0062 | Win/lose count 4.5/5.0 (-0.5)\n",
      "Epoch 014/200 | Loss 0.0043 | Win/lose count 5.0/7.0 (-2.0)\n",
      "Epoch 015/200 | Loss 0.0107 | Win/lose count 4.0/3.0 (1.0)\n",
      "Epoch 016/200 | Loss 0.0090 | Win/lose count 5.5/1.0 (4.5)\n",
      "Epoch 017/200 | Loss 0.0324 | Win/lose count 2.5/3.0 (-0.5)\n",
      "Epoch 018/200 | Loss 0.0055 | Win/lose count 4.5/5.0 (-0.5)\n",
      "Epoch 019/200 | Loss 0.0050 | Win/lose count 3.5/6.0 (-2.5)\n",
      "Epoch 020/200 | Loss 0.0217 | Win/lose count 5.5/3.0 (2.5)\n",
      "Epoch 021/200 | Loss 0.0266 | Win/lose count 3.0/8.0 (-5.0)\n",
      "Epoch 022/200 | Loss 0.0036 | Win/lose count 4.0/2.0 (2.0)\n",
      "Epoch 023/200 | Loss 0.0080 | Win/lose count 8.0/1.0 (7.0)\n",
      "Epoch 024/200 | Loss 0.0070 | Win/lose count 1.0/0 (1.0)\n",
      "Epoch 025/200 | Loss 0.0026 | Win/lose count 2.5/4.0 (-1.5)\n",
      "Epoch 026/200 | Loss 0.0114 | Win/lose count 3.5/2.0 (1.5)\n",
      "Epoch 027/200 | Loss 0.0223 | Win/lose count 4.0/2.0 (2.0)\n",
      "Epoch 028/200 | Loss 0.0051 | Win/lose count 5.0/9.0 (-4.0)\n",
      "Epoch 029/200 | Loss 0.0048 | Win/lose count 6.0/2.0 (4.0)\n",
      "Epoch 030/200 | Loss 0.0095 | Win/lose count 3.5/6.0 (-2.5)\n",
      "Epoch 031/200 | Loss 0.0058 | Win/lose count 5.5/4.0 (1.5)\n",
      "Epoch 032/200 | Loss 0.0053 | Win/lose count 3.0/1.0 (2.0)\n",
      "Epoch 033/200 | Loss 0.0053 | Win/lose count 3.0/2.0 (1.0)\n",
      "Epoch 034/200 | Loss 0.0048 | Win/lose count 11.0/2.0 (9.0)\n",
      "Epoch 035/200 | Loss 0.0081 | Win/lose count 7.5/5.0 (2.5)\n",
      "Epoch 036/200 | Loss 0.0048 | Win/lose count 13.0/4.0 (9.0)\n",
      "Epoch 037/200 | Loss 0.0043 | Win/lose count 4.5/3.0 (1.5)\n",
      "Epoch 038/200 | Loss 0.0037 | Win/lose count 6.5/1.0 (5.5)\n",
      "Epoch 039/200 | Loss 0.0301 | Win/lose count 8.0/2.0 (6.0)\n",
      "Epoch 040/200 | Loss 0.0313 | Win/lose count 12.0/1.0 (11.0)\n",
      "Epoch 041/200 | Loss 0.0246 | Win/lose count 10.5/6.0 (4.5)\n",
      "Epoch 042/200 | Loss 0.0049 | Win/lose count 17.0/6.0 (11.0)\n",
      "Epoch 043/200 | Loss 0.0047 | Win/lose count 5.5/1.0 (4.5)\n",
      "Epoch 044/200 | Loss 0.0098 | Win/lose count 5.5/1.0 (4.5)\n",
      "Epoch 045/200 | Loss 0.0087 | Win/lose count 12.5/2.0 (10.5)\n",
      "Epoch 046/200 | Loss 0.0458 | Win/lose count 9.5/3.0 (6.5)\n",
      "Epoch 047/200 | Loss 0.0078 | Win/lose count 9.5/3.0 (6.5)\n",
      "Epoch 048/200 | Loss 0.0069 | Win/lose count 9.5/1.0 (8.5)\n",
      "Epoch 049/200 | Loss 0.0082 | Win/lose count 4.5/1.0 (3.5)\n",
      "Epoch 050/200 | Loss 0.0290 | Win/lose count 9.0/1.0 (8.0)\n",
      "Epoch 051/200 | Loss 0.0344 | Win/lose count 8.0/3.0 (5.0)\n",
      "Epoch 052/200 | Loss 0.0070 | Win/lose count 10.0/0 (10.0)\n",
      "Epoch 053/200 | Loss 0.0025 | Win/lose count 14.0/5.0 (9.0)\n",
      "Epoch 054/200 | Loss 0.0263 | Win/lose count 12.5/4.0 (8.5)\n",
      "Epoch 055/200 | Loss 0.0254 | Win/lose count 5.5/3.0 (2.5)\n",
      "Epoch 056/200 | Loss 0.0307 | Win/lose count 9.0/1.0 (8.0)\n",
      "Epoch 057/200 | Loss 0.0030 | Win/lose count 15.0/1.0 (14.0)\n",
      "Epoch 058/200 | Loss 0.0208 | Win/lose count 16.5/3.0 (13.5)\n",
      "Epoch 059/200 | Loss 0.0047 | Win/lose count 14.0/2.0 (12.0)\n",
      "Epoch 060/200 | Loss 0.0348 | Win/lose count 4.5/4.0 (0.5)\n",
      "Epoch 061/200 | Loss 0.0065 | Win/lose count 14.0/3.0 (11.0)\n",
      "Epoch 062/200 | Loss 0.0258 | Win/lose count 10.0/2.0 (8.0)\n",
      "Epoch 063/200 | Loss 0.0294 | Win/lose count 17.0/7.0 (10.0)\n",
      "Epoch 064/200 | Loss 0.0292 | Win/lose count 5.5/0 (5.5)\n",
      "Epoch 065/200 | Loss 0.0069 | Win/lose count 10.0/4.0 (6.0)\n",
      "Epoch 066/200 | Loss 0.0080 | Win/lose count 19.0/4.0 (15.0)\n",
      "Epoch 067/200 | Loss 0.0027 | Win/lose count 10.5/1.0 (9.5)\n",
      "Epoch 068/200 | Loss 0.0300 | Win/lose count 9.5/1.0 (8.5)\n",
      "Epoch 069/200 | Loss 0.0042 | Win/lose count 17.5/5.0 (12.5)\n",
      "Epoch 070/200 | Loss 0.0048 | Win/lose count 8.5/1.0 (7.5)\n",
      "Epoch 071/200 | Loss 0.0024 | Win/lose count 11.0/2.0 (9.0)\n",
      "Epoch 072/200 | Loss 0.0269 | Win/lose count 8.0/5.0 (3.0)\n",
      "Epoch 073/200 | Loss 0.0054 | Win/lose count 6.0/3.0 (3.0)\n",
      "Epoch 074/200 | Loss 0.0044 | Win/lose count 9.0/4.0 (5.0)\n",
      "Epoch 075/200 | Loss 0.0052 | Win/lose count 11.0/4.0 (7.0)\n",
      "Epoch 076/200 | Loss 0.0035 | Win/lose count 17.0/2.0 (15.0)\n",
      "Epoch 077/200 | Loss 0.0260 | Win/lose count 12.5/5.0 (7.5)\n",
      "Epoch 078/200 | Loss 0.0263 | Win/lose count 11.5/2.0 (9.5)\n",
      "Epoch 079/200 | Loss 0.0086 | Win/lose count 7.0/2.0 (5.0)\n",
      "Epoch 080/200 | Loss 0.0047 | Win/lose count 7.0/0 (7.0)\n",
      "Epoch 081/200 | Loss 0.0239 | Win/lose count 7.0/1.0 (6.0)\n",
      "Epoch 082/200 | Loss 0.0030 | Win/lose count 9.5/2.0 (7.5)\n",
      "Epoch 083/200 | Loss 0.0043 | Win/lose count 13.5/2.0 (11.5)\n",
      "Epoch 084/200 | Loss 0.0047 | Win/lose count 11.5/3.0 (8.5)\n",
      "Epoch 085/200 | Loss 0.0322 | Win/lose count 4.0/1.0 (3.0)\n",
      "Epoch 086/200 | Loss 0.0031 | Win/lose count 13.0/4.0 (9.0)\n",
      "Epoch 087/200 | Loss 0.0037 | Win/lose count 13.0/3.0 (10.0)\n",
      "Epoch 088/200 | Loss 0.0035 | Win/lose count 15.5/5.0 (10.5)\n",
      "Epoch 089/200 | Loss 0.0241 | Win/lose count 12.5/2.0 (10.5)\n",
      "Epoch 090/200 | Loss 0.0052 | Win/lose count 16.0/3.0 (13.0)\n",
      "Epoch 091/200 | Loss 0.0043 | Win/lose count 5.0/1.0 (4.0)\n",
      "Epoch 092/200 | Loss 0.0254 | Win/lose count 4.0/2.0 (2.0)\n",
      "Epoch 093/200 | Loss 0.0061 | Win/lose count 23.0/1.0 (22.0)\n",
      "Epoch 094/200 | Loss 0.0035 | Win/lose count 11.5/4.0 (7.5)\n",
      "Epoch 095/200 | Loss 0.0036 | Win/lose count 18.5/4.0 (14.5)\n",
      "Epoch 096/200 | Loss 0.0035 | Win/lose count 3.0/1.0 (2.0)\n",
      "Epoch 097/200 | Loss 0.0323 | Win/lose count 9.5/1.0 (8.5)\n",
      "Epoch 098/200 | Loss 0.0049 | Win/lose count 13.5/4.0 (9.5)\n",
      "Epoch 099/200 | Loss 0.0043 | Win/lose count 13.5/3.0 (10.5)\n",
      "Epoch 100/200 | Loss 0.0250 | Win/lose count 13.0/4.0 (9.0)\n",
      "Epoch 101/200 | Loss 0.0032 | Win/lose count 14.0/1.0 (13.0)\n",
      "Epoch 102/200 | Loss 0.0225 | Win/lose count 14.5/1.0 (13.5)\n",
      "Epoch 103/200 | Loss 0.0256 | Win/lose count 4.5/0 (4.5)\n",
      "Epoch 104/200 | Loss 0.0262 | Win/lose count 5.0/1.0 (4.0)\n",
      "Epoch 105/200 | Loss 0.0035 | Win/lose count 5.5/4.0 (1.5)\n",
      "Epoch 106/200 | Loss 0.0027 | Win/lose count 5.0/1.0 (4.0)\n",
      "Epoch 107/200 | Loss 0.0043 | Win/lose count 3.0/2.0 (1.0)\n",
      "Epoch 108/200 | Loss 0.0034 | Win/lose count 10.5/4.0 (6.5)\n",
      "Epoch 109/200 | Loss 0.0021 | Win/lose count 5.5/3.0 (2.5)\n",
      "Epoch 110/200 | Loss 0.0040 | Win/lose count 5.5/3.0 (2.5)\n",
      "Epoch 111/200 | Loss 0.0043 | Win/lose count 9.5/2.0 (7.5)\n",
      "Epoch 112/200 | Loss 0.0027 | Win/lose count 15.5/3.0 (12.5)\n",
      "Epoch 113/200 | Loss 0.0033 | Win/lose count 10.0/3.0 (7.0)\n",
      "Epoch 114/200 | Loss 0.0252 | Win/lose count 12.0/4.0 (8.0)\n",
      "Epoch 115/200 | Loss 0.0046 | Win/lose count 15.0/1.0 (14.0)\n",
      "Epoch 116/200 | Loss 0.0037 | Win/lose count 10.0/1.0 (9.0)\n",
      "Epoch 117/200 | Loss 0.0253 | Win/lose count 13.0/5.0 (8.0)\n",
      "Epoch 118/200 | Loss 0.0037 | Win/lose count 12.5/2.0 (10.5)\n",
      "Epoch 119/200 | Loss 0.0290 | Win/lose count 12.0/2.0 (10.0)\n",
      "Epoch 120/200 | Loss 0.0074 | Win/lose count 14.0/0 (14.0)\n",
      "Epoch 121/200 | Loss 0.0050 | Win/lose count 17.0/2.0 (15.0)\n",
      "Epoch 122/200 | Loss 0.0044 | Win/lose count 10.5/1.0 (9.5)\n",
      "Epoch 123/200 | Loss 0.0048 | Win/lose count 14.5/3.0 (11.5)\n",
      "Epoch 124/200 | Loss 0.0033 | Win/lose count 17.0/5.0 (12.0)\n",
      "Epoch 125/200 | Loss 0.0026 | Win/lose count 16.0/0 (16.0)\n",
      "Epoch 126/200 | Loss 0.0054 | Win/lose count 17.5/5.0 (12.5)\n",
      "Epoch 127/200 | Loss 0.0031 | Win/lose count 12.5/5.0 (7.5)\n",
      "Epoch 128/200 | Loss 0.0239 | Win/lose count 5.5/2.0 (3.5)\n",
      "Epoch 129/200 | Loss 0.0033 | Win/lose count 15.0/2.0 (13.0)\n",
      "Epoch 130/200 | Loss 0.0038 | Win/lose count 6.5/1.0 (5.5)\n",
      "Epoch 131/200 | Loss 0.0037 | Win/lose count 20.5/3.0 (17.5)\n",
      "Epoch 132/200 | Loss 0.0033 | Win/lose count 7.0/0 (7.0)\n",
      "Epoch 133/200 | Loss 0.0042 | Win/lose count 11.5/1.0 (10.5)\n",
      "Epoch 134/200 | Loss 0.0249 | Win/lose count 8.0/3.0 (5.0)\n",
      "Epoch 135/200 | Loss 0.0025 | Win/lose count 15.0/1.0 (14.0)\n",
      "Epoch 136/200 | Loss 0.0341 | Win/lose count 10.5/1.0 (9.5)\n",
      "Epoch 137/200 | Loss 0.0020 | Win/lose count 11.0/2.0 (9.0)\n"
     ]
    },
    {
     "name": "stdout",
     "output_type": "stream",
     "text": [
      "Epoch 138/200 | Loss 0.0050 | Win/lose count 3.0/0 (3.0)\n",
      "Epoch 139/200 | Loss 0.0022 | Win/lose count 26.0/0 (26.0)\n",
      "Epoch 140/200 | Loss 0.0035 | Win/lose count 13.5/1.0 (12.5)\n",
      "Epoch 141/200 | Loss 0.0046 | Win/lose count 10.5/3.0 (7.5)\n",
      "Epoch 142/200 | Loss 0.0459 | Win/lose count 6.0/0 (6.0)\n",
      "Epoch 143/200 | Loss 0.0028 | Win/lose count 13.5/3.0 (10.5)\n",
      "Epoch 144/200 | Loss 0.0037 | Win/lose count 14.5/1.0 (13.5)\n",
      "Epoch 145/200 | Loss 0.0047 | Win/lose count 12.5/3.0 (9.5)\n",
      "Epoch 146/200 | Loss 0.0052 | Win/lose count 11.5/1.0 (10.5)\n",
      "Epoch 147/200 | Loss 0.0297 | Win/lose count 17.5/2.0 (15.5)\n",
      "Epoch 148/200 | Loss 0.0033 | Win/lose count 12.0/5.0 (7.0)\n",
      "Epoch 149/200 | Loss 0.0028 | Win/lose count 14.5/0 (14.5)\n",
      "Epoch 150/200 | Loss 0.0036 | Win/lose count 8.5/3.0 (5.5)\n",
      "Epoch 151/200 | Loss 0.0047 | Win/lose count 10.5/1.0 (9.5)\n",
      "Epoch 152/200 | Loss 0.0293 | Win/lose count 5.5/3.0 (2.5)\n",
      "Epoch 153/200 | Loss 0.0059 | Win/lose count 7.5/0 (7.5)\n",
      "Epoch 154/200 | Loss 0.0049 | Win/lose count 11.5/2.0 (9.5)\n",
      "Epoch 155/200 | Loss 0.0056 | Win/lose count 13.5/4.0 (9.5)\n",
      "Epoch 156/200 | Loss 0.0025 | Win/lose count 13.0/2.0 (11.0)\n",
      "Epoch 157/200 | Loss 0.0057 | Win/lose count 8.0/2.0 (6.0)\n",
      "Epoch 158/200 | Loss 0.0042 | Win/lose count 18.0/3.0 (15.0)\n",
      "Epoch 159/200 | Loss 0.0041 | Win/lose count 17.5/7.0 (10.5)\n",
      "Epoch 160/200 | Loss 0.0032 | Win/lose count 22.0/3.0 (19.0)\n",
      "Epoch 161/200 | Loss 0.0506 | Win/lose count 19.0/4.0 (15.0)\n",
      "Epoch 162/200 | Loss 0.0044 | Win/lose count 20.5/1.0 (19.5)\n",
      "Epoch 163/200 | Loss 0.0064 | Win/lose count 7.5/2.0 (5.5)\n",
      "Epoch 164/200 | Loss 0.0296 | Win/lose count 3.5/1.0 (2.5)\n",
      "Epoch 165/200 | Loss 0.0056 | Win/lose count 16.0/3.0 (13.0)\n",
      "Epoch 166/200 | Loss 0.0038 | Win/lose count 3.0/6.0 (-3.0)\n",
      "Epoch 167/200 | Loss 0.0045 | Win/lose count 16.5/3.0 (13.5)\n",
      "Epoch 168/200 | Loss 0.0031 | Win/lose count 19.5/3.0 (16.5)\n",
      "Epoch 169/200 | Loss 0.0031 | Win/lose count 3.0/0 (3.0)\n",
      "Epoch 170/200 | Loss 0.0048 | Win/lose count 18.0/1.0 (17.0)\n",
      "Epoch 171/200 | Loss 0.0299 | Win/lose count 9.0/2.0 (7.0)\n",
      "Epoch 172/200 | Loss 0.0035 | Win/lose count 11.5/3.0 (8.5)\n",
      "Epoch 173/200 | Loss 0.0261 | Win/lose count 13.5/2.0 (11.5)\n",
      "Epoch 174/200 | Loss 0.0065 | Win/lose count 11.5/2.0 (9.5)\n",
      "Epoch 175/200 | Loss 0.0289 | Win/lose count 12.5/4.0 (8.5)\n",
      "Epoch 176/200 | Loss 0.0058 | Win/lose count 23.0/4.0 (19.0)\n",
      "Epoch 177/200 | Loss 0.0054 | Win/lose count 10.5/3.0 (7.5)\n",
      "Epoch 178/200 | Loss 0.0031 | Win/lose count 13.5/2.0 (11.5)\n",
      "Epoch 179/200 | Loss 0.0055 | Win/lose count 9.5/1.0 (8.5)\n",
      "Epoch 180/200 | Loss 0.0297 | Win/lose count 8.5/2.0 (6.5)\n",
      "Epoch 181/200 | Loss 0.0267 | Win/lose count 3.0/2.0 (1.0)\n",
      "Epoch 182/200 | Loss 0.0041 | Win/lose count 8.5/3.0 (5.5)\n",
      "Epoch 183/200 | Loss 0.0270 | Win/lose count 12.5/2.0 (10.5)\n",
      "Epoch 184/200 | Loss 0.0049 | Win/lose count 16.0/3.0 (13.0)\n",
      "Epoch 185/200 | Loss 0.0050 | Win/lose count 20.0/2.0 (18.0)\n",
      "Epoch 186/200 | Loss 0.0026 | Win/lose count 15.0/2.0 (13.0)\n",
      "Epoch 187/200 | Loss 0.0262 | Win/lose count 15.0/2.0 (13.0)\n",
      "Epoch 188/200 | Loss 0.0276 | Win/lose count 15.0/3.0 (12.0)\n",
      "Epoch 189/200 | Loss 0.0038 | Win/lose count 6.5/1.0 (5.5)\n",
      "Epoch 190/200 | Loss 0.0275 | Win/lose count 6.5/2.0 (4.5)\n",
      "Epoch 191/200 | Loss 0.0523 | Win/lose count 21.5/5.0 (16.5)\n",
      "Epoch 192/200 | Loss 0.0267 | Win/lose count 13.5/4.0 (9.5)\n",
      "Epoch 193/200 | Loss 0.0443 | Win/lose count 8.0/2.0 (6.0)\n",
      "Epoch 194/200 | Loss 0.0535 | Win/lose count 12.5/2.0 (10.5)\n",
      "Epoch 195/200 | Loss 0.0343 | Win/lose count 7.5/3.0 (4.5)\n",
      "Epoch 196/200 | Loss 0.0337 | Win/lose count 6.0/2.0 (4.0)\n",
      "Epoch 197/200 | Loss 0.0319 | Win/lose count 13.0/3.0 (10.0)\n",
      "Epoch 198/200 | Loss 0.0209 | Win/lose count 14.0/3.0 (11.0)\n",
      "Epoch 199/200 | Loss 0.0038 | Win/lose count 11.5/2.0 (9.5)\n"
     ]
    },
    {
     "data": {
      "text/html": [
       "<video alt=\"test\" controls>\n",
       "                <source src=\"data:video/mp4;base64,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\" type=\"video/mp4\" />\n",
       "             </video>"
      ],
      "text/plain": [
       "<IPython.core.display.HTML object>"
      ]
     },
     "execution_count": 12,
     "metadata": {},
     "output_type": "execute_result"
    }
   ],
   "source": [
    "epochs_train = 200\n",
    "\n",
    "env = Environment(grid_size=size, max_time=T, temperature=0.3)\n",
    "agent = DQN_FC(grid_size=size, lr=.1, epsilon=0.1, memory_size=2000, batch_size=64)\n",
    "train(agent, env, epochs_train, prefix='fc_train')\n",
    "HTML(display_videos('fc_train190.mp4'))"
   ]
  },
  {
   "cell_type": "code",
   "execution_count": 13,
   "metadata": {},
   "outputs": [],
   "source": [
    "agent.save(name_weights='fc_trainmodel_e_final.h5',name_model='fc_trainmodel.json')"
   ]
  },
  {
   "cell_type": "markdown",
   "metadata": {
    "colab_type": "text",
    "ein.tags": "worksheet-0",
    "id": "I0nUDndCfQ0f",
    "slideshow": {
     "slide_type": "-"
    }
   },
   "source": [
    "***\n",
    "***\n",
    "__Question 8__ Implement the DQN training algorithm using a CNN (for example, 2 convolutional layers and one final fully connected layer)."
   ]
  },
  {
   "cell_type": "code",
   "execution_count": 14,
   "metadata": {
    "autoscroll": false,
    "colab": {},
    "colab_type": "code",
    "ein.hycell": false,
    "ein.tags": "worksheet-0",
    "id": "YevsuOAEfQ0g",
    "slideshow": {
     "slide_type": "-"
    }
   },
   "outputs": [],
   "source": [
    "class DQN_CNN(DQN):\n",
    "    def __init__(self, *args,lr=0.1,**kwargs):\n",
    "        super(DQN_CNN, self).__init__(*args,**kwargs)\n",
    "        \n",
    "        model = Sequential()\n",
    "        model.add(Conv2D(16, (2,2), activation = 'relu'))\n",
    "        model.add(Conv2D(16, (2,2), activation = 'relu'))\n",
    "        model.add(Flatten())\n",
    "        model.add(Dense(self.n_action))\n",
    "        \n",
    "        model.compile(sgd(lr=lr, decay=1e-4, momentum=0.0), \"mse\")\n",
    "        self.model = model"
   ]
  },
  {
   "cell_type": "code",
   "execution_count": 15,
   "metadata": {
    "autoscroll": false,
    "colab": {},
    "colab_type": "code",
    "ein.hycell": false,
    "ein.tags": "worksheet-0",
    "id": "zkZOm1jQfQ0i",
    "scrolled": true,
    "slideshow": {
     "slide_type": "-"
    }
   },
   "outputs": [
    {
     "name": "stdout",
     "output_type": "stream",
     "text": [
      "Epoch 000/200 | Loss 0.0050 | Win/lose count 4.0/7.0 (-3.0)\n",
      "Epoch 001/200 | Loss 0.0070 | Win/lose count 5.0/3.0 (2.0)\n",
      "Epoch 002/200 | Loss 0.0061 | Win/lose count 3.0/1.0 (2.0)\n",
      "Epoch 003/200 | Loss 0.0451 | Win/lose count 2.5/4.0 (-1.5)\n",
      "Epoch 004/200 | Loss 0.0052 | Win/lose count 3.5/2.0 (1.5)\n",
      "Epoch 005/200 | Loss 0.0013 | Win/lose count 3.0/3.0 (0.0)\n",
      "Epoch 006/200 | Loss 0.0274 | Win/lose count 4.5/4.0 (0.5)\n",
      "Epoch 007/200 | Loss 0.0614 | Win/lose count 6.5/1.0 (5.5)\n",
      "Epoch 008/200 | Loss 0.0017 | Win/lose count 5.0/4.0 (1.0)\n",
      "Epoch 009/200 | Loss 0.0088 | Win/lose count 3.5/4.0 (-0.5)\n",
      "Epoch 010/200 | Loss 0.0414 | Win/lose count 4.5/2.0 (2.5)\n",
      "Epoch 011/200 | Loss 0.0024 | Win/lose count 5.5/4.0 (1.5)\n",
      "Epoch 012/200 | Loss 0.0072 | Win/lose count 6.0/2.0 (4.0)\n",
      "Epoch 013/200 | Loss 0.0016 | Win/lose count 6.5/1.0 (5.5)\n",
      "Epoch 014/200 | Loss 0.0034 | Win/lose count 3.0/3.0 (0.0)\n",
      "Epoch 015/200 | Loss 0.0022 | Win/lose count 3.0/2.0 (1.0)\n",
      "Epoch 016/200 | Loss 0.0557 | Win/lose count 12.5/7.0 (5.5)\n",
      "Epoch 017/200 | Loss 0.0021 | Win/lose count 5.5/2.0 (3.5)\n",
      "Epoch 018/200 | Loss 0.0016 | Win/lose count 11.0/2.0 (9.0)\n",
      "Epoch 019/200 | Loss 0.0023 | Win/lose count 15.5/3.0 (12.5)\n",
      "Epoch 020/200 | Loss 0.0020 | Win/lose count 10.5/1.0 (9.5)\n",
      "Epoch 021/200 | Loss 0.0024 | Win/lose count 4.5/1.0 (3.5)\n",
      "Epoch 022/200 | Loss 0.0038 | Win/lose count 6.0/3.0 (3.0)\n",
      "Epoch 023/200 | Loss 0.0056 | Win/lose count 2.0/1.0 (1.0)\n",
      "Epoch 024/200 | Loss 0.0048 | Win/lose count 3.5/1.0 (2.5)\n",
      "Epoch 025/200 | Loss 0.0609 | Win/lose count 6.0/2.0 (4.0)\n",
      "Epoch 026/200 | Loss 0.0032 | Win/lose count 15.0/2.0 (13.0)\n",
      "Epoch 027/200 | Loss 0.0045 | Win/lose count 6.5/1.0 (5.5)\n",
      "Epoch 028/200 | Loss 0.0024 | Win/lose count 18.5/1.0 (17.5)\n",
      "Epoch 029/200 | Loss 0.0024 | Win/lose count 18.5/4.0 (14.5)\n",
      "Epoch 030/200 | Loss 0.0032 | Win/lose count 27.0/1.0 (26.0)\n",
      "Epoch 031/200 | Loss 0.0024 | Win/lose count 24.5/1.0 (23.5)\n",
      "Epoch 032/200 | Loss 0.0058 | Win/lose count 6.0/3.0 (3.0)\n",
      "Epoch 033/200 | Loss 0.0014 | Win/lose count 9.5/2.0 (7.5)\n",
      "Epoch 034/200 | Loss 0.0029 | Win/lose count 8.5/1.0 (7.5)\n",
      "Epoch 035/200 | Loss 0.0016 | Win/lose count 6.0/1.0 (5.0)\n",
      "Epoch 036/200 | Loss 0.0024 | Win/lose count 16.0/5.0 (11.0)\n",
      "Epoch 037/200 | Loss 0.0036 | Win/lose count 12.0/0 (12.0)\n",
      "Epoch 038/200 | Loss 0.0039 | Win/lose count 7.0/2.0 (5.0)\n",
      "Epoch 039/200 | Loss 0.0541 | Win/lose count 11.0/2.0 (9.0)\n",
      "Epoch 040/200 | Loss 0.0013 | Win/lose count 13.5/4.0 (9.5)\n",
      "Epoch 041/200 | Loss 0.0011 | Win/lose count 19.0/4.0 (15.0)\n",
      "Epoch 042/200 | Loss 0.0082 | Win/lose count 10.5/2.0 (8.5)\n",
      "Epoch 043/200 | Loss 0.0563 | Win/lose count 6.0/6.0 (0.0)\n",
      "Epoch 044/200 | Loss 0.0041 | Win/lose count 17.5/2.0 (15.5)\n",
      "Epoch 045/200 | Loss 0.0050 | Win/lose count 14.5/7.0 (7.5)\n",
      "Epoch 046/200 | Loss 0.0035 | Win/lose count 16.5/1.0 (15.5)\n",
      "Epoch 047/200 | Loss 0.0040 | Win/lose count 14.5/2.0 (12.5)\n",
      "Epoch 048/200 | Loss 0.0025 | Win/lose count 2.5/1.0 (1.5)\n",
      "Epoch 049/200 | Loss 0.0022 | Win/lose count 7.0/2.0 (5.0)\n",
      "Epoch 050/200 | Loss 0.0025 | Win/lose count 10.0/1.0 (9.0)\n",
      "Epoch 051/200 | Loss 0.0037 | Win/lose count 10.0/3.0 (7.0)\n",
      "Epoch 052/200 | Loss 0.0029 | Win/lose count 17.5/4.0 (13.5)\n",
      "Epoch 053/200 | Loss 0.0061 | Win/lose count 7.0/3.0 (4.0)\n",
      "Epoch 054/200 | Loss 0.0012 | Win/lose count 10.5/0 (10.5)\n",
      "Epoch 055/200 | Loss 0.0031 | Win/lose count 19.5/2.0 (17.5)\n",
      "Epoch 056/200 | Loss 0.0027 | Win/lose count 9.0/1.0 (8.0)\n",
      "Epoch 057/200 | Loss 0.0015 | Win/lose count 19.0/2.0 (17.0)\n",
      "Epoch 058/200 | Loss 0.0022 | Win/lose count 7.5/2.0 (5.5)\n",
      "Epoch 059/200 | Loss 0.0111 | Win/lose count 6.5/2.0 (4.5)\n",
      "Epoch 060/200 | Loss 0.0039 | Win/lose count 3.0/4.0 (-1.0)\n",
      "Epoch 061/200 | Loss 0.0029 | Win/lose count 5.0/3.0 (2.0)\n",
      "Epoch 062/200 | Loss 0.0049 | Win/lose count 12.5/0 (12.5)\n",
      "Epoch 063/200 | Loss 0.0646 | Win/lose count 14.0/4.0 (10.0)\n",
      "Epoch 064/200 | Loss 0.0046 | Win/lose count 21.0/0 (21.0)\n",
      "Epoch 065/200 | Loss 0.0024 | Win/lose count 7.5/1.0 (6.5)\n",
      "Epoch 066/200 | Loss 0.0023 | Win/lose count 13.0/2.0 (11.0)\n",
      "Epoch 067/200 | Loss 0.0038 | Win/lose count 13.5/4.0 (9.5)\n",
      "Epoch 068/200 | Loss 0.0021 | Win/lose count 18.5/1.0 (17.5)\n",
      "Epoch 069/200 | Loss 0.0036 | Win/lose count 13.0/4.0 (9.0)\n",
      "Epoch 070/200 | Loss 0.0035 | Win/lose count 11.5/3.0 (8.5)\n",
      "Epoch 071/200 | Loss 0.0100 | Win/lose count 15.0/4.0 (11.0)\n",
      "Epoch 072/200 | Loss 0.0542 | Win/lose count 17.5/4.0 (13.5)\n",
      "Epoch 073/200 | Loss 0.0020 | Win/lose count 2.5/0 (2.5)\n",
      "Epoch 074/200 | Loss 0.0024 | Win/lose count 14.0/3.0 (11.0)\n",
      "Epoch 075/200 | Loss 0.1026 | Win/lose count 23.0/1.0 (22.0)\n",
      "Epoch 076/200 | Loss 0.0034 | Win/lose count 16.5/2.0 (14.5)\n",
      "Epoch 077/200 | Loss 0.0026 | Win/lose count 10.0/3.0 (7.0)\n",
      "Epoch 078/200 | Loss 0.0044 | Win/lose count 7.5/3.0 (4.5)\n",
      "Epoch 079/200 | Loss 0.0027 | Win/lose count 18.5/4.0 (14.5)\n",
      "Epoch 080/200 | Loss 0.0041 | Win/lose count 13.0/2.0 (11.0)\n",
      "Epoch 081/200 | Loss 0.0043 | Win/lose count 5.5/4.0 (1.5)\n",
      "Epoch 082/200 | Loss 0.0018 | Win/lose count 17.0/2.0 (15.0)\n",
      "Epoch 083/200 | Loss 0.0024 | Win/lose count 8.0/4.0 (4.0)\n",
      "Epoch 084/200 | Loss 0.0532 | Win/lose count 19.0/0 (19.0)\n",
      "Epoch 085/200 | Loss 0.0496 | Win/lose count 12.5/1.0 (11.5)\n",
      "Epoch 086/200 | Loss 0.0551 | Win/lose count 9.5/4.0 (5.5)\n",
      "Epoch 087/200 | Loss 0.0021 | Win/lose count 14.5/1.0 (13.5)\n",
      "Epoch 088/200 | Loss 0.0020 | Win/lose count 14.0/1.0 (13.0)\n",
      "Epoch 089/200 | Loss 0.0541 | Win/lose count 18.5/1.0 (17.5)\n",
      "Epoch 090/200 | Loss 0.0028 | Win/lose count 10.0/1.0 (9.0)\n",
      "Epoch 091/200 | Loss 0.0041 | Win/lose count 4.0/1.0 (3.0)\n",
      "Epoch 092/200 | Loss 0.0007 | Win/lose count 21.0/2.0 (19.0)\n",
      "Epoch 093/200 | Loss 0.0029 | Win/lose count 19.0/5.0 (14.0)\n",
      "Epoch 094/200 | Loss 0.0546 | Win/lose count 21.5/3.0 (18.5)\n",
      "Epoch 095/200 | Loss 0.0017 | Win/lose count 12.5/2.0 (10.5)\n",
      "Epoch 096/200 | Loss 0.0011 | Win/lose count 4.5/5.0 (-0.5)\n",
      "Epoch 097/200 | Loss 0.0021 | Win/lose count 22.5/5.0 (17.5)\n",
      "Epoch 098/200 | Loss 0.0471 | Win/lose count 17.5/2.0 (15.5)\n",
      "Epoch 099/200 | Loss 0.0029 | Win/lose count 14.0/4.0 (10.0)\n",
      "Epoch 100/200 | Loss 0.0035 | Win/lose count 16.0/3.0 (13.0)\n",
      "Epoch 101/200 | Loss 0.0007 | Win/lose count 9.0/1.0 (8.0)\n",
      "Epoch 102/200 | Loss 0.0017 | Win/lose count 23.0/2.0 (21.0)\n",
      "Epoch 103/200 | Loss 0.0020 | Win/lose count 15.5/5.0 (10.5)\n",
      "Epoch 104/200 | Loss 0.0053 | Win/lose count 7.0/4.0 (3.0)\n",
      "Epoch 105/200 | Loss 0.0053 | Win/lose count 5.0/1.0 (4.0)\n",
      "Epoch 106/200 | Loss 0.0025 | Win/lose count 10.0/2.0 (8.0)\n",
      "Epoch 107/200 | Loss 0.0035 | Win/lose count 14.0/3.0 (11.0)\n",
      "Epoch 108/200 | Loss 0.0458 | Win/lose count 24.5/3.0 (21.5)\n",
      "Epoch 109/200 | Loss 0.0026 | Win/lose count 20.0/2.0 (18.0)\n",
      "Epoch 110/200 | Loss 0.0041 | Win/lose count 23.0/4.0 (19.0)\n",
      "Epoch 111/200 | Loss 0.0019 | Win/lose count 14.5/4.0 (10.5)\n",
      "Epoch 112/200 | Loss 0.0029 | Win/lose count 14.5/4.0 (10.5)\n",
      "Epoch 113/200 | Loss 0.0010 | Win/lose count 16.5/6.0 (10.5)\n",
      "Epoch 114/200 | Loss 0.0021 | Win/lose count 13.0/1.0 (12.0)\n",
      "Epoch 115/200 | Loss 0.0517 | Win/lose count 17.5/4.0 (13.5)\n",
      "Epoch 116/200 | Loss 0.1186 | Win/lose count 15.0/3.0 (12.0)\n",
      "Epoch 117/200 | Loss 0.0608 | Win/lose count 25.0/3.0 (22.0)\n",
      "Epoch 118/200 | Loss 0.0052 | Win/lose count 20.5/4.0 (16.5)\n",
      "Epoch 119/200 | Loss 0.0025 | Win/lose count 16.5/4.0 (12.5)\n",
      "Epoch 120/200 | Loss 0.0019 | Win/lose count 7.0/4.0 (3.0)\n",
      "Epoch 121/200 | Loss 0.0049 | Win/lose count 11.0/1.0 (10.0)\n",
      "Epoch 122/200 | Loss 0.0030 | Win/lose count 18.0/2.0 (16.0)\n",
      "Epoch 123/200 | Loss 0.0032 | Win/lose count 18.5/4.0 (14.5)\n",
      "Epoch 124/200 | Loss 0.0016 | Win/lose count 20.5/3.0 (17.5)\n",
      "Epoch 125/200 | Loss 0.0035 | Win/lose count 19.0/4.0 (15.0)\n",
      "Epoch 126/200 | Loss 0.0044 | Win/lose count 27.5/6.0 (21.5)\n",
      "Epoch 127/200 | Loss 0.0022 | Win/lose count 15.0/4.0 (11.0)\n",
      "Epoch 128/200 | Loss 0.0029 | Win/lose count 18.5/2.0 (16.5)\n",
      "Epoch 129/200 | Loss 0.0051 | Win/lose count 18.0/4.0 (14.0)\n",
      "Epoch 130/200 | Loss 0.0026 | Win/lose count 19.5/3.0 (16.5)\n",
      "Epoch 131/200 | Loss 0.0025 | Win/lose count 16.5/6.0 (10.5)\n",
      "Epoch 132/200 | Loss 0.0065 | Win/lose count 17.0/4.0 (13.0)\n",
      "Epoch 133/200 | Loss 0.0022 | Win/lose count 9.0/0 (9.0)\n",
      "Epoch 134/200 | Loss 0.0607 | Win/lose count 23.5/2.0 (21.5)\n",
      "Epoch 135/200 | Loss 0.0014 | Win/lose count 14.5/2.0 (12.5)\n",
      "Epoch 136/200 | Loss 0.0023 | Win/lose count 16.0/4.0 (12.0)\n"
     ]
    },
    {
     "name": "stdout",
     "output_type": "stream",
     "text": [
      "Epoch 137/200 | Loss 0.0021 | Win/lose count 16.5/2.0 (14.5)\n",
      "Epoch 138/200 | Loss 0.0033 | Win/lose count 20.5/5.0 (15.5)\n",
      "Epoch 139/200 | Loss 0.0577 | Win/lose count 14.5/6.0 (8.5)\n",
      "Epoch 140/200 | Loss 0.0027 | Win/lose count 20.0/1.0 (19.0)\n",
      "Epoch 141/200 | Loss 0.0015 | Win/lose count 13.0/3.0 (10.0)\n",
      "Epoch 142/200 | Loss 0.0032 | Win/lose count 22.5/5.0 (17.5)\n",
      "Epoch 143/200 | Loss 0.0100 | Win/lose count 20.5/5.0 (15.5)\n",
      "Epoch 144/200 | Loss 0.0513 | Win/lose count 23.0/9.0 (14.0)\n",
      "Epoch 145/200 | Loss 0.0028 | Win/lose count 11.0/3.0 (8.0)\n",
      "Epoch 146/200 | Loss 0.0037 | Win/lose count 22.0/4.0 (18.0)\n",
      "Epoch 147/200 | Loss 0.0030 | Win/lose count 19.0/3.0 (16.0)\n",
      "Epoch 148/200 | Loss 0.0034 | Win/lose count 11.5/3.0 (8.5)\n",
      "Epoch 149/200 | Loss 0.0039 | Win/lose count 18.5/2.0 (16.5)\n",
      "Epoch 150/200 | Loss 0.0031 | Win/lose count 20.0/3.0 (17.0)\n",
      "Epoch 151/200 | Loss 0.0021 | Win/lose count 18.5/3.0 (15.5)\n",
      "Epoch 152/200 | Loss 0.0026 | Win/lose count 15.5/5.0 (10.5)\n",
      "Epoch 153/200 | Loss 0.0517 | Win/lose count 17.0/3.0 (14.0)\n",
      "Epoch 154/200 | Loss 0.0034 | Win/lose count 20.5/5.0 (15.5)\n",
      "Epoch 155/200 | Loss 0.0038 | Win/lose count 5.0/4.0 (1.0)\n",
      "Epoch 156/200 | Loss 0.0023 | Win/lose count 12.5/0 (12.5)\n",
      "Epoch 157/200 | Loss 0.0036 | Win/lose count 23.0/3.0 (20.0)\n",
      "Epoch 158/200 | Loss 0.0041 | Win/lose count 22.5/0 (22.5)\n",
      "Epoch 159/200 | Loss 0.0049 | Win/lose count 15.0/3.0 (12.0)\n",
      "Epoch 160/200 | Loss 0.0047 | Win/lose count 18.5/5.0 (13.5)\n",
      "Epoch 161/200 | Loss 0.0035 | Win/lose count 21.0/2.0 (19.0)\n",
      "Epoch 162/200 | Loss 0.0026 | Win/lose count 5.5/3.0 (2.5)\n",
      "Epoch 163/200 | Loss 0.0028 | Win/lose count 18.5/2.0 (16.5)\n",
      "Epoch 164/200 | Loss 0.0030 | Win/lose count 13.0/4.0 (9.0)\n",
      "Epoch 165/200 | Loss 0.0057 | Win/lose count 20.0/5.0 (15.0)\n",
      "Epoch 166/200 | Loss 0.0041 | Win/lose count 13.0/3.0 (10.0)\n",
      "Epoch 167/200 | Loss 0.0070 | Win/lose count 15.0/6.0 (9.0)\n",
      "Epoch 168/200 | Loss 0.0036 | Win/lose count 10.0/0 (10.0)\n",
      "Epoch 169/200 | Loss 0.0062 | Win/lose count 15.5/4.0 (11.5)\n",
      "Epoch 170/200 | Loss 0.0024 | Win/lose count 11.5/1.0 (10.5)\n",
      "Epoch 171/200 | Loss 0.0019 | Win/lose count 19.5/1.0 (18.5)\n",
      "Epoch 172/200 | Loss 0.0023 | Win/lose count 6.5/2.0 (4.5)\n",
      "Epoch 173/200 | Loss 0.0034 | Win/lose count 16.0/2.0 (14.0)\n",
      "Epoch 174/200 | Loss 0.0017 | Win/lose count 17.5/3.0 (14.5)\n",
      "Epoch 175/200 | Loss 0.0029 | Win/lose count 9.0/3.0 (6.0)\n",
      "Epoch 176/200 | Loss 0.0037 | Win/lose count 15.0/1.0 (14.0)\n",
      "Epoch 177/200 | Loss 0.0026 | Win/lose count 21.5/3.0 (18.5)\n",
      "Epoch 178/200 | Loss 0.0055 | Win/lose count 24.0/3.0 (21.0)\n",
      "Epoch 179/200 | Loss 0.0036 | Win/lose count 18.0/6.0 (12.0)\n",
      "Epoch 180/200 | Loss 0.0095 | Win/lose count 18.5/1.0 (17.5)\n",
      "Epoch 181/200 | Loss 0.0024 | Win/lose count 23.5/3.0 (20.5)\n",
      "Epoch 182/200 | Loss 0.0037 | Win/lose count 27.0/4.0 (23.0)\n",
      "Epoch 183/200 | Loss 0.0026 | Win/lose count 11.5/3.0 (8.5)\n",
      "Epoch 184/200 | Loss 0.0019 | Win/lose count 26.0/4.0 (22.0)\n",
      "Epoch 185/200 | Loss 0.0027 | Win/lose count 6.0/1.0 (5.0)\n",
      "Epoch 186/200 | Loss 0.0601 | Win/lose count 16.0/2.0 (14.0)\n",
      "Epoch 187/200 | Loss 0.0028 | Win/lose count 10.0/0 (10.0)\n",
      "Epoch 188/200 | Loss 0.0543 | Win/lose count 13.5/1.0 (12.5)\n",
      "Epoch 189/200 | Loss 0.0022 | Win/lose count 10.0/1.0 (9.0)\n",
      "Epoch 190/200 | Loss 0.0046 | Win/lose count 3.0/5.0 (-2.0)\n",
      "Epoch 191/200 | Loss 0.0601 | Win/lose count 22.5/1.0 (21.5)\n",
      "Epoch 192/200 | Loss 0.0098 | Win/lose count 19.0/3.0 (16.0)\n",
      "Epoch 193/200 | Loss 0.0039 | Win/lose count 5.5/1.0 (4.5)\n",
      "Epoch 194/200 | Loss 0.0092 | Win/lose count 10.5/4.0 (6.5)\n",
      "Epoch 195/200 | Loss 0.0041 | Win/lose count 25.5/5.0 (20.5)\n",
      "Epoch 196/200 | Loss 0.0607 | Win/lose count 13.5/3.0 (10.5)\n",
      "Epoch 197/200 | Loss 0.0136 | Win/lose count 23.5/2.0 (21.5)\n",
      "Epoch 198/200 | Loss 0.0016 | Win/lose count 19.0/3.0 (16.0)\n",
      "Epoch 199/200 | Loss 0.0035 | Win/lose count 16.0/2.0 (14.0)\n"
     ]
    },
    {
     "data": {
      "text/html": [
       "<video alt=\"test\" controls>\n",
       "                <source src=\"data:video/mp4;base64,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\" type=\"video/mp4\" />\n",
       "             </video>"
      ],
      "text/plain": [
       "<IPython.core.display.HTML object>"
      ]
     },
     "execution_count": 15,
     "metadata": {},
     "output_type": "execute_result"
    }
   ],
   "source": [
    "epochs_train=200\n",
    "\n",
    "env = Environment(grid_size=size, max_time=T, temperature=0.3)\n",
    "agent = DQN_CNN(grid_size=size, lr=.1, epsilon = 0.1, memory_size=2000, batch_size = 32)\n",
    "train(agent,env,epochs_train,prefix='cnn_train')\n",
    "HTML(display_videos('cnn_train190.mp4'))"
   ]
  },
  {
   "cell_type": "code",
   "execution_count": 16,
   "metadata": {},
   "outputs": [
    {
     "data": {
      "text/html": [
       "<video alt=\"test\" controls>\n",
       "                <source src=\"data:video/mp4;base64,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\" type=\"video/mp4\" />\n",
       "             </video>"
      ],
      "text/plain": [
       "<IPython.core.display.HTML object>"
      ]
     },
     "execution_count": 16,
     "metadata": {},
     "output_type": "execute_result"
    }
   ],
   "source": [
    "HTML(display_videos('cnn_train190.mp4'))"
   ]
  },
  {
   "cell_type": "code",
   "execution_count": 17,
   "metadata": {},
   "outputs": [],
   "source": [
    "agent.save(name_weights='cnn_trainmodel_e_final.h5',name_model='cnn_trainmodel.json')"
   ]
  },
  {
   "cell_type": "markdown",
   "metadata": {
    "colab_type": "text",
    "ein.tags": "worksheet-0",
    "id": "FGb8bep-fQ0k",
    "slideshow": {
     "slide_type": "-"
    }
   },
   "source": [
    "***\n",
    "***\n",
    "__Question 9__ Test both algorithms and compare their performances. Which issue(s) do you observe? Observe also different behaviors by changing the temperature."
   ]
  },
  {
   "cell_type": "code",
   "execution_count": 18,
   "metadata": {
    "autoscroll": false,
    "colab": {},
    "colab_type": "code",
    "ein.hycell": false,
    "ein.tags": "worksheet-0",
    "id": "ice0a_SUfQ0m",
    "slideshow": {
     "slide_type": "-"
    }
   },
   "outputs": [
    {
     "name": "stdout",
     "output_type": "stream",
     "text": [
      "Test of the CNN\n",
      "Win/lose count 9.0/1.0. Average score (8.0)\n",
      "Win/lose count 14.0/3.0. Average score (9.5)\n",
      "Win/lose count 14.5/2.0. Average score (10.5)\n",
      "Win/lose count 14.5/0. Average score (11.5)\n",
      "Win/lose count 15.0/4.0. Average score (11.4)\n",
      "Win/lose count 12.0/4.0. Average score (10.833333333333334)\n",
      "Win/lose count 11.5/5.0. Average score (10.214285714285714)\n",
      "Win/lose count 14.5/5.0. Average score (10.125)\n",
      "Win/lose count 15.5/3.0. Average score (10.38888888888889)\n",
      "Win/lose count 11.5/2.0. Average score (10.3)\n",
      "Win/lose count 22.5/6.0. Average score (10.863636363636363)\n",
      "Win/lose count 20.0/2.0. Average score (11.458333333333334)\n",
      "Win/lose count 12.5/4.0. Average score (11.23076923076923)\n",
      "Win/lose count 11.0/4.0. Average score (10.928571428571429)\n",
      "Win/lose count 16.5/1.0. Average score (11.233333333333333)\n",
      "Final score: 11.233333333333333\n",
      "Test of the FC\n",
      "Win/lose count 20.5/1.0. Average score (19.5)\n",
      "Win/lose count 17.5/2.0. Average score (17.5)\n",
      "Win/lose count 14.5/3.0. Average score (15.5)\n",
      "Win/lose count 11.5/1.0. Average score (14.25)\n",
      "Win/lose count 23.0/3.0. Average score (15.4)\n",
      "Win/lose count 23.0/4.0. Average score (16.0)\n",
      "Win/lose count 13.0/2.0. Average score (15.285714285714286)\n",
      "Win/lose count 13.0/2.0. Average score (14.75)\n",
      "Win/lose count 11.5/4.0. Average score (13.944444444444445)\n",
      "Win/lose count 14.5/2.0. Average score (13.8)\n",
      "Win/lose count 11.5/1.0. Average score (13.5)\n",
      "Win/lose count 19.5/2.0. Average score (13.833333333333334)\n",
      "Win/lose count 9.5/1.0. Average score (13.423076923076923)\n",
      "Win/lose count 15.5/6.0. Average score (13.142857142857142)\n",
      "Win/lose count 13.5/1.0. Average score (13.1)\n",
      "Final score: 13.1\n"
     ]
    }
   ],
   "source": [
    "epochs_test = 15\n",
    "\n",
    "env = Environment(grid_size=size, max_time=T,temperature=0.3)\n",
    "agent_cnn = DQN_CNN(grid_size=size, lr=.1, epsilon = 0.1, memory_size=2000, batch_size = 32)\n",
    "agent_cnn.load(name_weights='cnn_trainmodel_e_final.h5',name_model='cnn_trainmodel.json')\n",
    "\n",
    "agent_fc = DQN_FC(grid_size=size, lr=.1, epsilon = 0.1, memory_size=2000, batch_size = 32)\n",
    "agent_fc.load(name_weights='fc_trainmodel_e_final.h5',name_model='fc_trainmodel.json')\n",
    "print('Test of the CNN')\n",
    "test(agent_cnn,env,epochs_test,prefix='cnn_test')\n",
    "print('Test of the FC')\n",
    "test(agent_fc,env,epochs_test,prefix='fc_test')"
   ]
  },
  {
   "cell_type": "code",
   "execution_count": 19,
   "metadata": {
    "autoscroll": false,
    "colab": {},
    "colab_type": "code",
    "ein.hycell": false,
    "ein.tags": "worksheet-0",
    "id": "uUOHPZAGfQ0p",
    "slideshow": {
     "slide_type": "-"
    }
   },
   "outputs": [
    {
     "data": {
      "text/html": [
       "<video alt=\"test\" controls>\n",
       "                <source src=\"data:video/mp4;base64,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\" type=\"video/mp4\" />\n",
       "             </video>"
      ],
      "text/plain": [
       "<IPython.core.display.HTML object>"
      ]
     },
     "execution_count": 19,
     "metadata": {},
     "output_type": "execute_result"
    }
   ],
   "source": [
    "HTML(display_videos('cnn_test10.mp4'))"
   ]
  },
  {
   "cell_type": "code",
   "execution_count": 20,
   "metadata": {
    "autoscroll": false,
    "colab": {},
    "colab_type": "code",
    "ein.hycell": false,
    "ein.tags": "worksheet-0",
    "id": "-wyINYiufQ0t",
    "slideshow": {
     "slide_type": "-"
    }
   },
   "outputs": [
    {
     "data": {
      "text/html": [
       "<video alt=\"test\" controls>\n",
       "                <source src=\"data:video/mp4;base64,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\" type=\"video/mp4\" />\n",
       "             </video>"
      ],
      "text/plain": [
       "<IPython.core.display.HTML object>"
      ]
     },
     "execution_count": 20,
     "metadata": {},
     "output_type": "execute_result"
    }
   ],
   "source": [
    "HTML(display_videos('fc_test10.mp4'))"
   ]
  },
  {
   "cell_type": "markdown",
   "metadata": {
    "colab_type": "text",
    "ein.tags": "worksheet-0",
    "id": "X5lYQcwAfQ0x",
    "slideshow": {
     "slide_type": "-"
    }
   },
   "source": [
    "> The temperature parameter controls the amount of rewards/maluses on the board. Given the implementation of environment, the great the temperature T is, the more rewards on the board there will be. (The probability of a reward on a given cell of the board is $P(\\text{ Reward }) = T$, while $P(\\text{ Poison }) = T(1-T)$). We can then expect the scores to be greater with a larger value of temperature.\n",
    "\n",
    "> Both agents perform rather well. The DNN-based agents performs slightly better than the CNN one.\n",
    "\n",
    "> The current agents tends to get stuck in corners : if they can't see any rewards around, they will simply stay in a corner until the game ends while there are probably other rewards to collect on the board."
   ]
  },
  {
   "cell_type": "markdown",
   "metadata": {
    "colab_type": "text",
    "ein.tags": "worksheet-0",
    "id": "mt49vGk8fQ0y",
    "slideshow": {
     "slide_type": "-"
    }
   },
   "source": [
    "***\n",
    "\n",
    "The algorithm tends to not explore the map which can be an issue. We propose two ideas in order to encourage exploration:\n",
    "1. Incorporating a decreasing $\\epsilon$-greedy exploration. You can use the method ```set_epsilon```\n",
    "2. Append via the environment a new state that describes if a cell has been visited or not\n",
    "\n",
    "***\n",
    "__Question 10__ Design a new ```train_explore``` function and environment class ```EnvironmentExploring``` to tackle the issue of exploration.\n",
    "\n"
   ]
  },
  {
   "cell_type": "code",
   "execution_count": 30,
   "metadata": {
    "autoscroll": false,
    "colab": {},
    "colab_type": "code",
    "ein.hycell": false,
    "ein.tags": "worksheet-0",
    "id": "MHtWCFp9fQ0z",
    "slideshow": {
     "slide_type": "-"
    }
   },
   "outputs": [],
   "source": [
    "def exponential_decrease(step):\n",
    "    return np.exp(-step)\n",
    "\n",
    "def train_explore(agent, env, epoch, epsilon_func=exponential_decrease, prefix=''):\n",
    "    # Number of won games\n",
    "    score = 0\n",
    "    loss = 0\n",
    "    \n",
    "    for e in range(epoch):\n",
    "        # At each epoch, we restart to a fresh game and get the initial state\n",
    "        state = env.reset()\n",
    "        # This assumes that the games will terminate\n",
    "        game_over = False\n",
    "\n",
    "        win = 0\n",
    "        lose = 0\n",
    "        step = 0\n",
    "\n",
    "        while not game_over:\n",
    "            # Decrease epsilon\n",
    "            agent.set_epsilon(epsilon_func(step))\n",
    "            step += 1\n",
    "            \n",
    "            # The agent performs an action\n",
    "            action = agent.act(state)\n",
    "\n",
    "            # Apply an action to the environment, get the next state, the reward\n",
    "            # and if the games end\n",
    "            prev_state = state\n",
    "            state, reward, game_over = env.act(action, train=True)\n",
    "\n",
    "            # Update the counters\n",
    "            if reward > 0:\n",
    "                win = win + reward\n",
    "            if reward < 0:\n",
    "                lose = lose - reward\n",
    "\n",
    "            # Apply the reinforcement strategy\n",
    "            loss = agent.reinforce(prev_state, state, action, reward,\n",
    "                                   game_over)\n",
    "\n",
    "        # Save as a mp4\n",
    "        if e % 10 == 0:\n",
    "            env.draw(prefix + str(e))\n",
    "\n",
    "        # Update stats\n",
    "        score += win - lose\n",
    "\n",
    "        print(\"Epoch {:03d}/{:03d} | Loss {:.4f} | Win/lose count {:.0f}/{:.0f} ({:.0f})\".\n",
    "              format(e, epoch, loss, win, lose, win - lose))\n",
    "        agent.save(\n",
    "              name_weights=prefix + 'model.h5', name_model=prefix + 'model.json')\n",
    "\n",
    "\n",
    "class EnvironmentExploring(object):\n",
    "    def __init__(self, grid_size=10, max_time=500, temperature=0.1):\n",
    "        grid_size = grid_size+4\n",
    "        self.grid_size = grid_size\n",
    "        self.max_time = max_time\n",
    "        self.temperature = temperature\n",
    "\n",
    "        #board on which one plays\n",
    "        self.board = np.zeros((grid_size, grid_size))\n",
    "        self.position = np.zeros((grid_size, grid_size))\n",
    "        self.malus_position = np.zeros((grid_size, grid_size))\n",
    "\n",
    "        # coordinate of the cat\n",
    "        self.x = 0\n",
    "        self.y = 1\n",
    "\n",
    "        # self time\n",
    "        self.t = 0\n",
    "\n",
    "        self.scale=16\n",
    "\n",
    "        self.to_draw = np.zeros((max_time+2, grid_size*self.scale, grid_size*self.scale, 3))\n",
    "\n",
    "\n",
    "    def draw(self,e):\n",
    "        skvideo.io.vwrite(join(VIDEO_FOLDER, str(e) + '.mp4'), self.to_draw)\n",
    "\n",
    "\n",
    "    def get_frame(self,t):\n",
    "        b = np.zeros((self.grid_size,self.grid_size,3))+128\n",
    "        b[self.board>0,0] = 256\n",
    "        b[self.board < 0, 2] = 256\n",
    "        b[self.x,self.y,:]=256\n",
    "        b[-2:,:,:]=0\n",
    "        b[:,-2:,:]=0\n",
    "        b[:2,:,:]=0\n",
    "        b[:,:2,:]=0\n",
    "        \n",
    "        b =  cv2.resize(b, None, fx=self.scale, fy=self.scale, interpolation=cv2.INTER_NEAREST)\n",
    "\n",
    "        self.to_draw[t,:,:,:]=b\n",
    "\n",
    "\n",
    "    def act(self, action, train=False):\n",
    "        \"\"\"This function returns the new state, reward and decides if the\n",
    "        game ends.\"\"\"\n",
    "\n",
    "        self.get_frame(int(self.t))\n",
    "\n",
    "        self.position = np.zeros((self.grid_size, self.grid_size))\n",
    "\n",
    "        self.position[0:2,:]= -1\n",
    "        self.position[:,0:2] = -1\n",
    "        self.position[-2:, :] = -1\n",
    "        self.position[-2:, :] = -1\n",
    "\n",
    "        self.position[self.x, self.y] = 1\n",
    "        if action == 0:\n",
    "            if self.x == self.grid_size - 3:\n",
    "                self.x = self.x - 1\n",
    "            else:\n",
    "                self.x = self.x + 1\n",
    "        elif action == 1:\n",
    "            if self.x == 2:\n",
    "                self.x = self.x + 1\n",
    "            else:\n",
    "                self.x = self.x - 1\n",
    "        elif action == 2:\n",
    "            if self.y == self.grid_size - 3:\n",
    "                self.y = self.y - 1\n",
    "            else:\n",
    "                self.y = self.y + 1\n",
    "        elif action == 3:\n",
    "            if self.y == 2:\n",
    "                self.y = self.y + 1\n",
    "            else:\n",
    "                self.y = self.y - 1\n",
    "        else:\n",
    "            RuntimeError('Error: action not recognized')\n",
    "        \n",
    "        if train:\n",
    "             reward = -self.malus_position[self.x, self.y]\n",
    "        else:\n",
    "            reward = 0\n",
    "        self.malus_position[self.x, self.y] = min(self.malus_position[self.x, self.y] + 0.05, 0.2)\n",
    "\n",
    "        self.t = self.t + 1\n",
    "        reward += self.board[self.x, self.y]\n",
    "        self.board[self.x, self.y] = 0\n",
    "        game_over = self.t > self.max_time\n",
    "        state = np.concatenate((self.malus_position.reshape(self.grid_size, self.grid_size,1),\n",
    "                                self.board.reshape(self.grid_size, self.grid_size,1),\n",
    "                                self.position.reshape(self.grid_size, self.grid_size,1)),axis=2)\n",
    "\n",
    "        state = state[self.x-2:self.x+3,self.y-2:self.y+3,:]\n",
    "\n",
    "        return state, reward, game_over\n",
    "\n",
    "    def reset(self):\n",
    "        \"\"\"This function resets the game and returns the initial state\"\"\"\n",
    "\n",
    "        self.x = np.random.randint(3, self.grid_size-3, size=1)[0]\n",
    "        self.y = np.random.randint(3, self.grid_size-3, size=1)[0]\n",
    "\n",
    "\n",
    "        bonus = 0.5*np.random.binomial(1,self.temperature,size=self.grid_size**2)\n",
    "        bonus = bonus.reshape(self.grid_size,self.grid_size)\n",
    "\n",
    "        malus = -1.0*np.random.binomial(1,self.temperature,size=self.grid_size**2)\n",
    "        malus = malus.reshape(self.grid_size, self.grid_size)\n",
    "\n",
    "        self.to_draw = np.zeros((self.max_time+2, self.grid_size*self.scale, self.grid_size*self.scale, 3))\n",
    "\n",
    "\n",
    "        malus[bonus>0]=0\n",
    "\n",
    "        self.board = bonus + malus\n",
    "\n",
    "        self.position = np.zeros((self.grid_size, self.grid_size))\n",
    "        self.position[0:2,:]= -1\n",
    "        self.position[:,0:2] = -1\n",
    "        self.position[-2:, :] = -1\n",
    "        self.position[-2:, :] = -1\n",
    "        self.board[self.x,self.y] = 0\n",
    "        self.t = 0\n",
    "\n",
    "        # 3 \"feature\" state\n",
    "        state = np.concatenate((self.malus_position.reshape(self.grid_size, self.grid_size,1),\n",
    "                                self.board.reshape(self.grid_size, self.grid_size,1),\n",
    "                                self.position.reshape(self.grid_size, self.grid_size,1)),axis=2)\n",
    "\n",
    "        state = state[self.x - 2:self.x + 3, self.y - 2:self.y + 3, :]\n",
    "        return state"
   ]
  },
  {
   "cell_type": "code",
   "execution_count": 31,
   "metadata": {
    "autoscroll": false,
    "colab": {},
    "colab_type": "code",
    "ein.hycell": false,
    "ein.tags": "worksheet-0",
    "id": "1p3gmeVLfQ02",
    "scrolled": true,
    "slideshow": {
     "slide_type": "-"
    }
   },
   "outputs": [
    {
     "name": "stdout",
     "output_type": "stream",
     "text": [
      "Epoch 000/200 | Loss 0.0109 | Win/lose count 4/35 (-31)\n",
      "Epoch 001/200 | Loss 0.0306 | Win/lose count 2/38 (-36)\n",
      "Epoch 002/200 | Loss 0.0379 | Win/lose count 7/34 (-27)\n",
      "Epoch 003/200 | Loss 0.0055 | Win/lose count 8/36 (-28)\n",
      "Epoch 004/200 | Loss 0.0067 | Win/lose count 3/36 (-33)\n",
      "Epoch 005/200 | Loss 0.0079 | Win/lose count 8/35 (-26)\n",
      "Epoch 006/200 | Loss 0.0095 | Win/lose count 1/42 (-42)\n",
      "Epoch 007/200 | Loss 0.0304 | Win/lose count 12/27 (-15)\n",
      "Epoch 008/200 | Loss 0.0049 | Win/lose count 5/35 (-29)\n",
      "Epoch 009/200 | Loss 0.0278 | Win/lose count 6/38 (-33)\n",
      "Epoch 010/200 | Loss 0.0072 | Win/lose count 4/40 (-35)\n",
      "Epoch 011/200 | Loss 0.0062 | Win/lose count 2/41 (-38)\n",
      "Epoch 012/200 | Loss 0.0366 | Win/lose count 6/41 (-35)\n",
      "Epoch 013/200 | Loss 0.0353 | Win/lose count 8/39 (-32)\n",
      "Epoch 014/200 | Loss 0.0046 | Win/lose count 6/40 (-34)\n",
      "Epoch 015/200 | Loss 0.0049 | Win/lose count 4/40 (-36)\n",
      "Epoch 016/200 | Loss 0.0078 | Win/lose count 8/41 (-34)\n",
      "Epoch 017/200 | Loss 0.0321 | Win/lose count 8/41 (-32)\n",
      "Epoch 018/200 | Loss 0.0052 | Win/lose count 16/33 (-17)\n",
      "Epoch 019/200 | Loss 0.0299 | Win/lose count 11/41 (-29)\n",
      "Epoch 020/200 | Loss 0.0062 | Win/lose count 10/36 (-26)\n",
      "Epoch 021/200 | Loss 0.0339 | Win/lose count 10/38 (-28)\n",
      "Epoch 022/200 | Loss 0.0067 | Win/lose count 10/38 (-27)\n",
      "Epoch 023/200 | Loss 0.0309 | Win/lose count 7/38 (-31)\n",
      "Epoch 024/200 | Loss 0.0098 | Win/lose count 13/39 (-26)\n",
      "Epoch 025/200 | Loss 0.0522 | Win/lose count 5/39 (-34)\n",
      "Epoch 026/200 | Loss 0.0088 | Win/lose count 13/36 (-23)\n",
      "Epoch 027/200 | Loss 0.0113 | Win/lose count 9/39 (-30)\n",
      "Epoch 028/200 | Loss 0.0068 | Win/lose count 7/37 (-30)\n",
      "Epoch 029/200 | Loss 0.0051 | Win/lose count 7/38 (-31)\n",
      "Epoch 030/200 | Loss 0.0335 | Win/lose count 6/40 (-34)\n",
      "Epoch 031/200 | Loss 0.0058 | Win/lose count 12/38 (-26)\n",
      "Epoch 032/200 | Loss 0.0061 | Win/lose count 9/44 (-36)\n",
      "Epoch 033/200 | Loss 0.0332 | Win/lose count 7/43 (-36)\n",
      "Epoch 034/200 | Loss 0.0330 | Win/lose count 11/38 (-26)\n",
      "Epoch 035/200 | Loss 0.0086 | Win/lose count 10/42 (-32)\n",
      "Epoch 036/200 | Loss 0.0042 | Win/lose count 15/37 (-23)\n",
      "Epoch 037/200 | Loss 0.0060 | Win/lose count 16/33 (-17)\n",
      "Epoch 038/200 | Loss 0.0338 | Win/lose count 12/41 (-29)\n",
      "Epoch 039/200 | Loss 0.0382 | Win/lose count 13/44 (-31)\n",
      "Epoch 040/200 | Loss 0.0044 | Win/lose count 14/35 (-21)\n",
      "Epoch 041/200 | Loss 0.0617 | Win/lose count 8/42 (-34)\n",
      "Epoch 042/200 | Loss 0.0581 | Win/lose count 9/39 (-30)\n",
      "Epoch 043/200 | Loss 0.0081 | Win/lose count 11/37 (-27)\n",
      "Epoch 044/200 | Loss 0.0316 | Win/lose count 9/40 (-31)\n",
      "Epoch 045/200 | Loss 0.0067 | Win/lose count 11/37 (-25)\n",
      "Epoch 046/200 | Loss 0.0358 | Win/lose count 11/45 (-33)\n",
      "Epoch 047/200 | Loss 0.0048 | Win/lose count 14/41 (-26)\n",
      "Epoch 048/200 | Loss 0.0051 | Win/lose count 13/49 (-36)\n",
      "Epoch 049/200 | Loss 0.0541 | Win/lose count 11/44 (-33)\n",
      "Epoch 050/200 | Loss 0.0047 | Win/lose count 12/37 (-26)\n",
      "Epoch 051/200 | Loss 0.0042 | Win/lose count 14/37 (-22)\n",
      "Epoch 052/200 | Loss 0.0064 | Win/lose count 16/42 (-26)\n",
      "Epoch 053/200 | Loss 0.0331 | Win/lose count 12/40 (-28)\n",
      "Epoch 054/200 | Loss 0.0065 | Win/lose count 8/41 (-33)\n",
      "Epoch 055/200 | Loss 0.0026 | Win/lose count 2/40 (-37)\n",
      "Epoch 056/200 | Loss 0.0049 | Win/lose count 13/37 (-24)\n",
      "Epoch 057/200 | Loss 0.0078 | Win/lose count 9/35 (-26)\n",
      "Epoch 058/200 | Loss 0.0028 | Win/lose count 9/37 (-29)\n",
      "Epoch 059/200 | Loss 0.0322 | Win/lose count 14/37 (-22)\n",
      "Epoch 060/200 | Loss 0.0055 | Win/lose count 12/38 (-27)\n",
      "Epoch 061/200 | Loss 0.0368 | Win/lose count 12/41 (-29)\n",
      "Epoch 062/200 | Loss 0.0046 | Win/lose count 14/40 (-25)\n",
      "Epoch 063/200 | Loss 0.0353 | Win/lose count 10/36 (-26)\n",
      "Epoch 064/200 | Loss 0.0069 | Win/lose count 7/44 (-37)\n",
      "Epoch 065/200 | Loss 0.0052 | Win/lose count 10/44 (-34)\n",
      "Epoch 066/200 | Loss 0.0306 | Win/lose count 8/45 (-37)\n",
      "Epoch 067/200 | Loss 0.0040 | Win/lose count 3/39 (-36)\n",
      "Epoch 068/200 | Loss 0.0067 | Win/lose count 10/36 (-26)\n",
      "Epoch 069/200 | Loss 0.0348 | Win/lose count 14/36 (-22)\n",
      "Epoch 070/200 | Loss 0.0090 | Win/lose count 11/37 (-26)\n",
      "Epoch 071/200 | Loss 0.0315 | Win/lose count 12/35 (-24)\n",
      "Epoch 072/200 | Loss 0.0323 | Win/lose count 9/41 (-32)\n",
      "Epoch 073/200 | Loss 0.0065 | Win/lose count 15/44 (-29)\n",
      "Epoch 074/200 | Loss 0.0096 | Win/lose count 10/38 (-28)\n",
      "Epoch 075/200 | Loss 0.0031 | Win/lose count 9/38 (-30)\n",
      "Epoch 076/200 | Loss 0.0082 | Win/lose count 6/37 (-31)\n",
      "Epoch 077/200 | Loss 0.0042 | Win/lose count 12/42 (-31)\n",
      "Epoch 078/200 | Loss 0.0107 | Win/lose count 11/46 (-34)\n",
      "Epoch 079/200 | Loss 0.0088 | Win/lose count 13/45 (-32)\n",
      "Epoch 080/200 | Loss 0.0049 | Win/lose count 14/42 (-28)\n",
      "Epoch 081/200 | Loss 0.0064 | Win/lose count 12/42 (-30)\n",
      "Epoch 082/200 | Loss 0.0145 | Win/lose count 11/40 (-30)\n",
      "Epoch 083/200 | Loss 0.0376 | Win/lose count 13/35 (-22)\n",
      "Epoch 084/200 | Loss 0.0087 | Win/lose count 13/40 (-27)\n",
      "Epoch 085/200 | Loss 0.0067 | Win/lose count 13/36 (-23)\n",
      "Epoch 086/200 | Loss 0.0079 | Win/lose count 12/41 (-29)\n",
      "Epoch 087/200 | Loss 0.0113 | Win/lose count 12/35 (-23)\n",
      "Epoch 088/200 | Loss 0.0404 | Win/lose count 8/42 (-33)\n",
      "Epoch 089/200 | Loss 0.0337 | Win/lose count 13/41 (-28)\n",
      "Epoch 090/200 | Loss 0.0390 | Win/lose count 10/41 (-31)\n",
      "Epoch 091/200 | Loss 0.0073 | Win/lose count 16/38 (-22)\n",
      "Epoch 092/200 | Loss 0.0386 | Win/lose count 6/38 (-32)\n",
      "Epoch 093/200 | Loss 0.0065 | Win/lose count 7/38 (-31)\n",
      "Epoch 094/200 | Loss 0.0309 | Win/lose count 14/34 (-20)\n",
      "Epoch 095/200 | Loss 0.0060 | Win/lose count 14/33 (-19)\n",
      "Epoch 096/200 | Loss 0.0086 | Win/lose count 14/36 (-21)\n",
      "Epoch 097/200 | Loss 0.0079 | Win/lose count 13/41 (-28)\n",
      "Epoch 098/200 | Loss 0.0141 | Win/lose count 13/36 (-23)\n",
      "Epoch 099/200 | Loss 0.0069 | Win/lose count 15/33 (-19)\n",
      "Epoch 100/200 | Loss 0.0117 | Win/lose count 11/42 (-32)\n",
      "Epoch 101/200 | Loss 0.0089 | Win/lose count 14/39 (-24)\n",
      "Epoch 102/200 | Loss 0.0100 | Win/lose count 16/34 (-18)\n",
      "Epoch 103/200 | Loss 0.0377 | Win/lose count 16/39 (-23)\n",
      "Epoch 104/200 | Loss 0.0079 | Win/lose count 9/37 (-28)\n",
      "Epoch 105/200 | Loss 0.0069 | Win/lose count 14/42 (-29)\n",
      "Epoch 106/200 | Loss 0.0091 | Win/lose count 13/38 (-25)\n",
      "Epoch 107/200 | Loss 0.0094 | Win/lose count 8/42 (-33)\n",
      "Epoch 108/200 | Loss 0.0363 | Win/lose count 16/36 (-20)\n",
      "Epoch 109/200 | Loss 0.0126 | Win/lose count 7/45 (-38)\n",
      "Epoch 110/200 | Loss 0.0352 | Win/lose count 14/39 (-24)\n",
      "Epoch 111/200 | Loss 0.0043 | Win/lose count 12/34 (-23)\n",
      "Epoch 112/200 | Loss 0.0068 | Win/lose count 7/38 (-31)\n",
      "Epoch 113/200 | Loss 0.0102 | Win/lose count 12/43 (-31)\n",
      "Epoch 114/200 | Loss 0.0073 | Win/lose count 8/36 (-27)\n",
      "Epoch 115/200 | Loss 0.0094 | Win/lose count 14/41 (-27)\n",
      "Epoch 116/200 | Loss 0.0065 | Win/lose count 7/38 (-31)\n",
      "Epoch 117/200 | Loss 0.0058 | Win/lose count 11/38 (-26)\n",
      "Epoch 118/200 | Loss 0.0100 | Win/lose count 13/37 (-24)\n",
      "Epoch 119/200 | Loss 0.0131 | Win/lose count 13/41 (-28)\n",
      "Epoch 120/200 | Loss 0.0094 | Win/lose count 15/38 (-23)\n",
      "Epoch 121/200 | Loss 0.0101 | Win/lose count 10/40 (-30)\n",
      "Epoch 122/200 | Loss 0.0133 | Win/lose count 11/39 (-27)\n",
      "Epoch 123/200 | Loss 0.0391 | Win/lose count 9/40 (-31)\n",
      "Epoch 124/200 | Loss 0.0081 | Win/lose count 12/37 (-26)\n",
      "Epoch 125/200 | Loss 0.0065 | Win/lose count 5/41 (-35)\n",
      "Epoch 126/200 | Loss 0.0059 | Win/lose count 7/41 (-34)\n",
      "Epoch 127/200 | Loss 0.0095 | Win/lose count 10/38 (-28)\n",
      "Epoch 128/200 | Loss 0.0099 | Win/lose count 3/40 (-38)\n",
      "Epoch 129/200 | Loss 0.0045 | Win/lose count 16/37 (-21)\n",
      "Epoch 130/200 | Loss 0.0102 | Win/lose count 14/36 (-22)\n",
      "Epoch 131/200 | Loss 0.0057 | Win/lose count 14/38 (-24)\n",
      "Epoch 132/200 | Loss 0.0050 | Win/lose count 9/40 (-32)\n",
      "Epoch 133/200 | Loss 0.0068 | Win/lose count 12/35 (-23)\n",
      "Epoch 134/200 | Loss 0.0089 | Win/lose count 15/40 (-26)\n",
      "Epoch 135/200 | Loss 0.0091 | Win/lose count 10/35 (-25)\n",
      "Epoch 136/200 | Loss 0.0088 | Win/lose count 11/42 (-30)\n",
      "Epoch 137/200 | Loss 0.0067 | Win/lose count 11/43 (-32)\n",
      "Epoch 138/200 | Loss 0.0674 | Win/lose count 10/39 (-29)\n",
      "Epoch 139/200 | Loss 0.0413 | Win/lose count 10/43 (-33)\n",
      "Epoch 140/200 | Loss 0.0127 | Win/lose count 15/39 (-24)\n",
      "Epoch 141/200 | Loss 0.0414 | Win/lose count 12/41 (-30)\n",
      "Epoch 142/200 | Loss 0.0095 | Win/lose count 14/37 (-23)\n",
      "Epoch 143/200 | Loss 0.0067 | Win/lose count 13/37 (-24)\n",
      "Epoch 144/200 | Loss 0.0333 | Win/lose count 12/35 (-24)\n"
     ]
    },
    {
     "name": "stdout",
     "output_type": "stream",
     "text": [
      "Epoch 145/200 | Loss 0.0100 | Win/lose count 14/38 (-24)\n",
      "Epoch 146/200 | Loss 0.0054 | Win/lose count 6/40 (-34)\n",
      "Epoch 147/200 | Loss 0.0089 | Win/lose count 13/38 (-25)\n",
      "Epoch 148/200 | Loss 0.0080 | Win/lose count 16/33 (-17)\n",
      "Epoch 149/200 | Loss 0.0092 | Win/lose count 11/37 (-27)\n",
      "Epoch 150/200 | Loss 0.0789 | Win/lose count 7/42 (-35)\n",
      "Epoch 151/200 | Loss 0.0059 | Win/lose count 15/32 (-18)\n",
      "Epoch 152/200 | Loss 0.0088 | Win/lose count 7/38 (-31)\n",
      "Epoch 153/200 | Loss 0.0124 | Win/lose count 15/36 (-21)\n",
      "Epoch 154/200 | Loss 0.0059 | Win/lose count 14/33 (-19)\n",
      "Epoch 155/200 | Loss 0.0077 | Win/lose count 8/43 (-34)\n",
      "Epoch 156/200 | Loss 0.0352 | Win/lose count 16/32 (-16)\n",
      "Epoch 157/200 | Loss 0.0108 | Win/lose count 11/34 (-23)\n",
      "Epoch 158/200 | Loss 0.0086 | Win/lose count 10/36 (-26)\n",
      "Epoch 159/200 | Loss 0.0092 | Win/lose count 14/35 (-21)\n",
      "Epoch 160/200 | Loss 0.0396 | Win/lose count 11/39 (-28)\n",
      "Epoch 161/200 | Loss 0.0144 | Win/lose count 14/44 (-30)\n",
      "Epoch 162/200 | Loss 0.0078 | Win/lose count 13/37 (-24)\n",
      "Epoch 163/200 | Loss 0.0050 | Win/lose count 7/43 (-36)\n",
      "Epoch 164/200 | Loss 0.0063 | Win/lose count 13/38 (-25)\n",
      "Epoch 165/200 | Loss 0.0080 | Win/lose count 2/40 (-38)\n",
      "Epoch 166/200 | Loss 0.0385 | Win/lose count 14/38 (-25)\n",
      "Epoch 167/200 | Loss 0.0106 | Win/lose count 15/37 (-23)\n",
      "Epoch 168/200 | Loss 0.0062 | Win/lose count 10/47 (-37)\n",
      "Epoch 169/200 | Loss 0.0069 | Win/lose count 14/37 (-24)\n",
      "Epoch 170/200 | Loss 0.0085 | Win/lose count 9/41 (-33)\n",
      "Epoch 171/200 | Loss 0.0102 | Win/lose count 13/40 (-27)\n",
      "Epoch 172/200 | Loss 0.0099 | Win/lose count 9/42 (-33)\n",
      "Epoch 173/200 | Loss 0.0091 | Win/lose count 15/35 (-20)\n",
      "Epoch 174/200 | Loss 0.0055 | Win/lose count 13/38 (-25)\n",
      "Epoch 175/200 | Loss 0.0062 | Win/lose count 13/40 (-27)\n",
      "Epoch 176/200 | Loss 0.0051 | Win/lose count 14/36 (-21)\n",
      "Epoch 177/200 | Loss 0.0125 | Win/lose count 15/36 (-21)\n",
      "Epoch 178/200 | Loss 0.0437 | Win/lose count 12/35 (-23)\n",
      "Epoch 179/200 | Loss 0.0385 | Win/lose count 15/37 (-22)\n",
      "Epoch 180/200 | Loss 0.0085 | Win/lose count 13/37 (-24)\n",
      "Epoch 181/200 | Loss 0.0070 | Win/lose count 14/38 (-24)\n",
      "Epoch 182/200 | Loss 0.0080 | Win/lose count 12/38 (-26)\n",
      "Epoch 183/200 | Loss 0.0079 | Win/lose count 9/37 (-28)\n",
      "Epoch 184/200 | Loss 0.0404 | Win/lose count 8/38 (-30)\n",
      "Epoch 185/200 | Loss 0.0151 | Win/lose count 14/33 (-19)\n",
      "Epoch 186/200 | Loss 0.0163 | Win/lose count 7/39 (-32)\n",
      "Epoch 187/200 | Loss 0.0095 | Win/lose count 12/37 (-26)\n",
      "Epoch 188/200 | Loss 0.0066 | Win/lose count 11/39 (-28)\n",
      "Epoch 189/200 | Loss 0.0193 | Win/lose count 11/39 (-29)\n",
      "Epoch 190/200 | Loss 0.0364 | Win/lose count 15/40 (-26)\n",
      "Epoch 191/200 | Loss 0.0084 | Win/lose count 5/38 (-32)\n",
      "Epoch 192/200 | Loss 0.0079 | Win/lose count 5/42 (-37)\n",
      "Epoch 193/200 | Loss 0.0092 | Win/lose count 13/41 (-28)\n",
      "Epoch 194/200 | Loss 0.0046 | Win/lose count 17/37 (-20)\n",
      "Epoch 195/200 | Loss 0.0350 | Win/lose count 15/42 (-27)\n",
      "Epoch 196/200 | Loss 0.0097 | Win/lose count 13/39 (-26)\n",
      "Epoch 197/200 | Loss 0.0184 | Win/lose count 11/34 (-23)\n",
      "Epoch 198/200 | Loss 0.0027 | Win/lose count 11/38 (-26)\n",
      "Epoch 199/200 | Loss 0.0365 | Win/lose count 9/35 (-27)\n"
     ]
    },
    {
     "data": {
      "text/html": [
       "<video alt=\"test\" controls>\n",
       "                <source src=\"data:video/mp4;base64,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\" type=\"video/mp4\" />\n",
       "             </video>"
      ],
      "text/plain": [
       "<IPython.core.display.HTML object>"
      ]
     },
     "execution_count": 31,
     "metadata": {},
     "output_type": "execute_result"
    }
   ],
   "source": [
    "# Training\n",
    "env = EnvironmentExploring(grid_size=size, max_time=T, temperature=0.3)\n",
    "agent = DQN_CNN(size, lr=.1, epsilon = 0.1, memory_size=2000, batch_size = 64,n_state=3)\n",
    "train_explore(agent, env, epochs_train, prefix='cnn_train_explore')\n",
    "HTML(display_videos('cnn_train_explore10.mp4'))"
   ]
  },
  {
   "cell_type": "code",
   "execution_count": 32,
   "metadata": {
    "autoscroll": false,
    "colab": {},
    "colab_type": "code",
    "ein.hycell": false,
    "ein.tags": "worksheet-0",
    "id": "gsLUqxuxfQ04",
    "slideshow": {
     "slide_type": "-"
    }
   },
   "outputs": [
    {
     "name": "stdout",
     "output_type": "stream",
     "text": [
      "Win/lose count 3.5/7.0. Average score (-3.5)\n",
      "Win/lose count 4.0/1.0. Average score (-0.25)\n",
      "Win/lose count 6.5/3.0. Average score (1.0)\n",
      "Win/lose count 3.5/2.0. Average score (1.125)\n",
      "Win/lose count 1.5/0. Average score (1.2)\n",
      "Win/lose count 8.0/3.0. Average score (1.8333333333333333)\n",
      "Win/lose count 6.5/3.0. Average score (2.0714285714285716)\n",
      "Win/lose count 4.0/4.0. Average score (1.8125)\n",
      "Win/lose count 2.5/1.0. Average score (1.7777777777777777)\n",
      "Win/lose count 8.5/3.0. Average score (2.15)\n",
      "Win/lose count 6.0/2.0. Average score (2.3181818181818183)\n",
      "Final score: 2.3181818181818183\n"
     ]
    },
    {
     "data": {
      "text/html": [
       "<video alt=\"test\" controls>\n",
       "                <source src=\"data:video/mp4;base64,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\" type=\"video/mp4\" />\n",
       "             </video>"
      ],
      "text/plain": [
       "<IPython.core.display.HTML object>"
      ]
     },
     "execution_count": 32,
     "metadata": {},
     "output_type": "execute_result"
    }
   ],
   "source": [
    "# Evaluation\n",
    "epochs_test = 11\n",
    "\n",
    "env = EnvironmentExploring(grid_size=size, max_time=T, temperature=0.3)\n",
    "test(agent,env,epochs_test,prefix='cnn_test_explore')\n",
    "HTML(display_videos('cnn_test_explore10.mp4'))"
   ]
  },
  {
   "cell_type": "code",
   "execution_count": 24,
   "metadata": {},
   "outputs": [
    {
     "data": {
      "text/html": [
       "<video alt=\"test\" controls>\n",
       "                <source src=\"data:video/mp4;base64,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\" type=\"video/mp4\" />\n",
       "             </video>"
      ],
      "text/plain": [
       "<IPython.core.display.HTML object>"
      ]
     },
     "execution_count": 24,
     "metadata": {},
     "output_type": "execute_result"
    }
   ],
   "source": [
    "HTML(display_videos('cnn_train_explore160.mp4'))"
   ]
  },
  {
   "cell_type": "markdown",
   "metadata": {
    "colab_type": "text",
    "ein.tags": "worksheet-0",
    "id": "ahO9PcsWfQ05",
    "slideshow": {
     "slide_type": "-"
    }
   },
   "source": [
    "***\n",
    "***\n",
    "__BONUS question__ Use the expert DQN from the previous question to generate some winning games. Train a model that mimicks its behavior. Compare the performances."
   ]
  },
  {
   "cell_type": "markdown",
   "metadata": {
    "colab_type": "text",
    "ein.tags": "worksheet-0",
    "id": "x6gbqZ97fQ06",
    "slideshow": {
     "slide_type": "-"
    }
   },
   "source": []
  },
  {
   "cell_type": "markdown",
   "metadata": {
    "colab_type": "text",
    "ein.tags": "worksheet-0",
    "id": "rxZO5kPffQ06",
    "slideshow": {
     "slide_type": "-"
    }
   },
   "source": [
    "***"
   ]
  }
 ],
 "metadata": {
  "accelerator": "GPU",
  "colab": {
   "collapsed_sections": [],
   "name": "DQN_project_MVA.ipynb",
   "provenance": [],
   "version": "0.3.2"
  },
  "kernelspec": {
   "display_name": "Python 3",
   "language": "python",
   "name": "python3"
  },
  "language_info": {
   "codemirror_mode": {
    "name": "ipython",
    "version": 3
   },
   "file_extension": ".py",
   "mimetype": "text/x-python",
   "name": "python",
   "nbconvert_exporter": "python",
   "pygments_lexer": "ipython3",
   "version": "3.5.3"
  }
 },
 "nbformat": 4,
 "nbformat_minor": 1
}
